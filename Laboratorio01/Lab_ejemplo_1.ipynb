{
 "cells": [
  {
   "cell_type": "markdown",
   "metadata": {
    "id": "HWV9A-zMtpFg"
   },
   "source": [
    "# Parte 1:\n",
    "Trabajamos con estructuras de Datos y operaciones matematicas "
   ]
  },
  {
   "cell_type": "markdown",
   "metadata": {},
   "source": [
    "## Importando Librerias\n",
    "**pandas**\n",
    "\n",
    "pandas es una herramienta de manipulación y análisis de datos de código abierto rápida, potente, flexible y fácil de usar,\n",
    "construida sobre el lenguaje de programación Python .\n",
    "\n",
    "**NumPy**\n",
    "\n",
    "El paquete fundamental para la computación científica con Python. Para matrices y funciones matematicas"
   ]
  },
  {
   "cell_type": "code",
   "execution_count": 12,
   "metadata": {
    "id": "puXn_7RFHjbu"
   },
   "outputs": [],
   "source": [
    "# Importa algunas librerias base\n",
    "# Manipulacion y analisis de datos\n",
    "import pandas as pd\n",
    "# Manipulacion de matrices\n",
    "import numpy as np"
   ]
  },
  {
   "cell_type": "markdown",
   "metadata": {},
   "source": [
    "## Creando arreglos "
   ]
  },
  {
   "cell_type": "code",
   "execution_count": 13,
   "metadata": {},
   "outputs": [
    {
     "name": "stdout",
     "output_type": "stream",
     "text": [
      "[0 1 2 3]\n",
      "1\n",
      "(4,)\n",
      "4\n"
     ]
    }
   ],
   "source": [
    "# 1-D\n",
    "a = np.array([0,1,2,3])\n",
    "print(a)\n",
    "# dimension\n",
    "print(a.ndim)\n",
    "# dimension en una escala mas amplia\n",
    "print(a.shape)\n",
    "# longitud\n",
    "print(len(a))"
   ]
  },
  {
   "cell_type": "code",
   "execution_count": 25,
   "metadata": {},
   "outputs": [
    {
     "name": "stdout",
     "output_type": "stream",
     "text": [
      "[[0 1 2]\n",
      " [3 4 5]]\n",
      "2\n",
      "(2, 3)\n"
     ]
    },
    {
     "data": {
      "text/plain": [
       "2"
      ]
     },
     "execution_count": 25,
     "metadata": {},
     "output_type": "execute_result"
    }
   ],
   "source": [
    "b = np.array([[0, 1, 2], [3, 4, 5]])\n",
    "print(b)\n",
    "print(b.ndim)\n",
    "print(b.shape)\n",
    "len(b)"
   ]
  },
  {
   "cell_type": "code",
   "execution_count": 24,
   "metadata": {},
   "outputs": [
    {
     "name": "stdout",
     "output_type": "stream",
     "text": [
      "[[1 2 3]\n",
      " [4 5 6]\n",
      " [7 8 9]]\n",
      "2\n",
      "(3, 3)\n",
      "3\n"
     ]
    }
   ],
   "source": [
    "c = np.array([[1,2,3], [4,5,6], [7,8,9]])\n",
    "print(c)\n",
    "print(c.ndim)\n",
    "print(c.shape)\n",
    "print(len(c))"
   ]
  },
  {
   "cell_type": "code",
   "execution_count": 4,
   "metadata": {
    "id": "Z5RHmFcfHlJJ"
   },
   "outputs": [
    {
     "data": {
      "text/plain": [
       "array([[ 0,  0,  0,  0,  0,  0,  0,  0,  0],\n",
       "       [ 0,  0,  0,  0,  0,  0,  0,  0,  0],\n",
       "       [ 0,  0,  0,  0,  0,  0,  0,  0,  0],\n",
       "       [ 0,  0,  0,  0,  0,  0,  0,  0,  0],\n",
       "       [ 0, 49, 48, 11, 46,  6, 12,  3,  0],\n",
       "       [ 0,  7, 13, 14, 31, 32, 35, 43,  0],\n",
       "       [ 0,  8, 30, 28, 21, 26, 20, 42,  0],\n",
       "       [ 0, 45, 33, 23, 25, 27, 17,  5,  0],\n",
       "       [ 0,  9, 34, 24, 29, 22, 16, 41,  0],\n",
       "       [ 0, 10, 15, 36, 19, 18, 37, 40,  0],\n",
       "       [ 0, 47,  2, 39,  4, 44, 38,  1,  0],\n",
       "       [ 0,  0,  0,  0,  0,  0,  0,  0,  0],\n",
       "       [ 0,  0,  0,  0,  0,  0,  0,  0,  0]])"
      ]
     },
     "execution_count": 4,
     "metadata": {},
     "output_type": "execute_result"
    }
   ],
   "source": [
    "# Creamos un array de 2 dimensiones con np.array\n",
    "numpy_arr = np.array([[ 0,  0,  0,  0,  0,  0,  0,  0,  0],\n",
    "                      [ 0,  0,  0,  0,  0,  0,  0,  0,  0],\n",
    "                      [ 0,  0,  0,  0,  0,  0,  0,  0,  0],\n",
    "                      [ 0,  0,  0,  0,  0,  0,  0,  0,  0],\n",
    "                      [ 0, 49, 48, 11, 46,  6, 12,  3,  0],\n",
    "                      [ 0,  7, 13, 14, 31, 32, 35, 43,  0],\n",
    "                      [ 0,  8, 30, 28, 21, 26, 20, 42,  0],\n",
    "                      [ 0, 45, 33, 23, 25, 27, 17,  5,  0],\n",
    "                      [ 0,  9, 34, 24, 29, 22, 16, 41,  0],\n",
    "                      [ 0, 10, 15, 36, 19, 18, 37, 40,  0],\n",
    "                      [ 0, 47,  2, 39,  4, 44, 38,  1,  0],\n",
    "                      [ 0,  0,  0,  0,  0,  0,  0,  0,  0],\n",
    "                      [ 0,  0,  0,  0,  0,  0,  0,  0,  0]])\n",
    "numpy_arr"
   ]
  },
  {
   "cell_type": "markdown",
   "metadata": {
    "id": "6jbZeVaHLTs0"
   },
   "source": [
    "![image.png](data:image/png;base64,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)"
   ]
  },
  {
   "cell_type": "markdown",
   "metadata": {
    "id": "KrtRfzoXmoZm"
   },
   "source": [
    "- Aplicar slicing al arreglo numpy mostrado, para extraer un arreglo de dimensiones 7x7 con todos los elementos que no son 0 en el arreglo original.\n"
   ]
  },
  {
   "cell_type": "code",
   "execution_count": 5,
   "metadata": {
    "colab": {
     "base_uri": "https://localhost:8080/"
    },
    "id": "8ga6baqXIt8y",
    "outputId": "6df945ac-3891-4952-d629-fe34e8a79e96"
   },
   "outputs": [
    {
     "name": "stdout",
     "output_type": "stream",
     "text": [
      "[[49 48 11 46  6 12  3]\n",
      " [ 7 13 14 31 32 35 43]\n",
      " [ 8 30 28 21 26 20 42]\n",
      " [45 33 23 25 27 17  5]\n",
      " [ 9 34 24 29 22 16 41]\n",
      " [10 15 36 19 18 37 40]\n",
      " [47  2 39  4 44 38  1]]\n"
     ]
    }
   ],
   "source": [
    "# obtenemos parte de la matriz (recuadro en rojo arriba)\n",
    "# desde la fila 4-antepenultima\n",
    "# desde la columna 1 hasta la penultima\n",
    "matriz = numpy_arr[4:-2,1:-1]\n",
    "\n",
    "print(matriz)"
   ]
  },
  {
   "cell_type": "code",
   "execution_count": 34,
   "metadata": {
    "id": "wmW6KMwUJq7Q"
   },
   "outputs": [],
   "source": [
    "assert(matriz.shape == (7,7)), \"El arreglo seleccionado debe tener 7 filas y 7 columnas\" # no borrar esta celda"
   ]
  },
  {
   "cell_type": "code",
   "execution_count": 6,
   "metadata": {
    "colab": {
     "base_uri": "https://localhost:8080/"
    },
    "id": "JxtJ0FH_PuYu",
    "outputId": "3c94eb43-61ac-43f9-db28-b8ab20071691"
   },
   "outputs": [
    {
     "name": "stdout",
     "output_type": "stream",
     "text": [
      "[[49 48 11 46  6 12  3]\n",
      " [ 7 13 14 31 32 35 43]\n",
      " [ 8 30 28 21 26 20 42]\n",
      " [45 33 23 25 27 17  5]\n",
      " [ 9 34 24 29 22 16 41]\n",
      " [10 15 36 19 18 37 40]\n",
      " [47  2 39  4 44 38  1]] \n",
      " (7, 7)\n"
     ]
    }
   ],
   "source": [
    "print(matriz,\"\\n\", matriz.shape)"
   ]
  },
  {
   "cell_type": "markdown",
   "metadata": {
    "id": "u32vD9RThA-D"
   },
   "source": [
    "- Calcular la suma de elementos de cada una de las filas de la matriz cuadrada de 7x7 extraída"
   ]
  },
  {
   "cell_type": "code",
   "execution_count": 9,
   "metadata": {
    "colab": {
     "base_uri": "https://localhost:8080/"
    },
    "id": "9RxRNarFm77L",
    "outputId": "3feb1a0f-b7e8-454a-9597-be8121d3b483"
   },
   "outputs": [
    {
     "name": "stdout",
     "output_type": "stream",
     "text": [
      "fila  0  =  175\n",
      "fila  1  =  175\n",
      "fila  2  =  175\n",
      "fila  3  =  175\n",
      "fila  4  =  175\n",
      "fila  5  =  175\n",
      "fila  6  =  175\n"
     ]
    }
   ],
   "source": [
    "# itera cada fila de la matriz\n",
    "for contador in range(0,7):\n",
    "    #print(matriz[contador])\n",
    "    # imprime la fila y la suma de los elementos de ella\n",
    "    print(\"fila \",contador,\" = \",matriz[contador].sum())"
   ]
  },
  {
   "cell_type": "markdown",
   "metadata": {
    "id": "gSyFBbOYhKhR"
   },
   "source": [
    "- Calcular la suma de elementos de cada una de las columnas de la matriz cuadrada de 7x7 extraída.\n"
   ]
  },
  {
   "cell_type": "code",
   "execution_count": 10,
   "metadata": {
    "colab": {
     "base_uri": "https://localhost:8080/"
    },
    "id": "A94UcTNDKHhX",
    "outputId": "0f64d4b8-eaf6-44c3-bbbf-0a3c233c542b"
   },
   "outputs": [
    {
     "name": "stdout",
     "output_type": "stream",
     "text": [
      "columna  0  =  175\n",
      "columna  1  =  175\n",
      "columna  2  =  175\n",
      "columna  3  =  175\n",
      "columna  4  =  175\n",
      "columna  5  =  175\n",
      "columna  6  =  175\n"
     ]
    }
   ],
   "source": [
    "# itera columna\n",
    "for i in range(7):\n",
    "  suma = 0\n",
    "  # itera fila\n",
    "  for j in range(7):\n",
    "    suma += matriz[j][i]\n",
    "  print(\"columna \",i,\" = \",suma)\n"
   ]
  },
  {
   "cell_type": "code",
   "execution_count": 15,
   "metadata": {},
   "outputs": [
    {
     "name": "stdout",
     "output_type": "stream",
     "text": [
      "[[49  7  8 45  9 10 47]\n",
      " [48 13 30 33 34 15  2]\n",
      " [11 14 28 23 24 36 39]\n",
      " [46 31 21 25 29 19  4]\n",
      " [ 6 32 26 27 22 18 44]\n",
      " [12 35 20 17 16 37 38]\n",
      " [ 3 43 42  5 41 40  1]]\n",
      "Columna  0  =  175\n",
      "Columna  1  =  175\n",
      "Columna  2  =  175\n",
      "Columna  3  =  175\n",
      "Columna  4  =  175\n",
      "Columna  5  =  175\n",
      "Columna  6  =  175\n"
     ]
    }
   ],
   "source": [
    "# Usando la transpuesta de la matriz\n",
    "matrizTranspuesta = np.transpose(matriz)\n",
    "print(matrizTranspuesta)\n",
    "# itera cada fila de la matriz\n",
    "for contador in range(0,7):\n",
    "    #print(matriz[contador])\n",
    "    # imprime la fila y la suma de los elementos de ella\n",
    "    print(\"Columna \",contador,\" = \",matrizTranspuesta[contador].sum())\n"
   ]
  },
  {
   "cell_type": "markdown",
   "metadata": {
    "id": "glFk45PhuUL-"
   },
   "source": [
    "- Calcular la suma de elementos de la diagonal de la matriz cuadrada de 7x7 extraída."
   ]
  },
  {
   "cell_type": "markdown",
   "metadata": {
    "id": "YyqlF-Lyt8DV"
   },
   "source": [
    "Usar la función [`np.diag()`](https://numpy.org/doc/stable/reference/generated/numpy.diag.html):"
   ]
  },
  {
   "cell_type": "code",
   "execution_count": 11,
   "metadata": {},
   "outputs": [
    {
     "data": {
      "text/plain": [
       "array([49, 13, 28, 25, 22, 37,  1])"
      ]
     },
     "execution_count": 11,
     "metadata": {},
     "output_type": "execute_result"
    }
   ],
   "source": [
    "np.diag(matriz)"
   ]
  },
  {
   "cell_type": "code",
   "execution_count": null,
   "metadata": {
    "colab": {
     "base_uri": "https://localhost:8080/"
    },
    "id": "ofyyXU6UvFKp",
    "outputId": "b86d182e-ca0d-484e-adea-1739437ab93a"
   },
   "outputs": [
    {
     "name": "stdout",
     "output_type": "stream",
     "text": [
      "suma de la diagonal =  175\n"
     ]
    }
   ],
   "source": [
    "print(\"suma de la diagonal = \",np.diag(matriz).sum())"
   ]
  },
  {
   "cell_type": "markdown",
   "metadata": {
    "id": "FmsF9hh7I8Q1"
   },
   "source": [
    "# Parte 2: \n",
    "Recuperación de datos médicos y tratamiento de los mismos. "
   ]
  },
  {
   "cell_type": "markdown",
   "metadata": {
    "id": "wOoBwUAWwQHh"
   },
   "source": [
    "Fuente del dataset: **https://archive.ics.uci.edu/ml/datasets/Heart+Disease**\n",
    "\n",
    "### ENFERMEDADES CARDIACAS\n",
    "Esta base de datos contiene 76 atributos, pero todos los experimentos publicados se refieren al uso de un subconjunto de 14 de ellos. En particular, la base de datos de Cleveland es la única que han utilizado los investigadores de ML hasta la\n",
    "fecha. El campo \"objetivo\" se refiere a la presencia de enfermedad cardíaca en el paciente. Tiene un valor entero de 0 (sin presencia) a 4."
   ]
  },
  {
   "cell_type": "markdown",
   "metadata": {
    "id": "paAtrgKcleM8"
   },
   "source": [
    "#### Descripción de los datos"
   ]
  },
  {
   "cell_type": "markdown",
   "metadata": {
    "id": "WqSEYPw5E9Qv"
   },
   "source": [
    "**Información de los atributos del dataset:**\n",
    "\n",
    "- 'edad': Edad\n",
    "- 'sexo': Sexo (1 = masculino; 0 = femenino)\n",
    "- 'tipo dolor pecho': Tipo de dolor de pecho 4 valores: 0: angina típica, 1: angina atípica, 2: dolor no anginal, 3: asintomático</font>)\n",
    "- 'pres_arterial_reposo': Presión arterial en reposo (medida en el triaje)\n",
    "- 'colesterol': Nivel de colesterol (mg/dl).\n",
    "- 'glucemia_alta': Glucemia en ayunas mayor a 120 mg/dl.\n",
    "- 'res_ekg': Resultados del electocardiograma en reposo:\n",
    "  - Valor 0: normal\n",
    "  - Valor 1: having ST-T wave abnormality (T wave inversions and/or ST elevation or depression of > 0.05 mV)\n",
    "  - Valor 2: showing probable or definite left ventricular hypertrophy by Estes' criteria\n",
    "- 'max_bpm': Máxima frecuencia cardíaca alcanzada\n",
    "- 'ang_ej': Angina inducida por el ejercicio\n",
    "- oldpeak: ST depression induced by exercise relative to rest\n",
    "- 'slope': the slope of the peak exercise ST segment\n",
    "- 'num_vasos': Número de vasos sanguíneos coloreados por fluoroscopía.\n",
    "- 'thal': Talasemia: 3 = normal; 6 = fixed defect; 7 = reversable defect\n",
    "- 'target': Riesgo de padecer un ataque cardíaco (Variable objetivo): Valor 0: Nulo o bajo riesgo; Valor 1: Riesgo alto.\n",
    "\n",
    "En los atributos binarios, 1 quiere decir Verdadero y 0 quiere decir Falso."
   ]
  },
  {
   "cell_type": "markdown",
   "metadata": {
    "id": "6Nsqcn5oEYri"
   },
   "source": [
    " En la descripción oficial del dataset (https://archive.ics.uci.edu/ml/datasets/Heart+Disease) menciona este rango de valores para el atributo tipo dolor pecho: 1: angina típica, 2: angina atípica, 3: dolor no anginal, 4: asintomático.</font>\n",
    "\n"
   ]
  },
  {
   "cell_type": "code",
   "execution_count": 17,
   "metadata": {
    "id": "OKxBwexQL2FE"
   },
   "outputs": [
    {
     "name": "stderr",
     "output_type": "stream",
     "text": [
      "C:\\Users\\HP\\AppData\\Local\\Temp\\ipykernel_18996\\3812640165.py:12: ParserWarning: Length of header or names does not match length of data. This leads to a loss of data with index_col=False.\n",
      "  heart_data = pd.read_csv(filename, names=col_names, header=0, delimiter=\",\",index_col=False)\n"
     ]
    }
   ],
   "source": [
    "# Carga datos de un archivo csv: Este es el dataframe incompleto\n",
    "filename = \"heart_missing.csv\"\n",
    "col_names = ['edad', 'sexo', 'tipo dolor pecho', 'pres_arterial_reposo', 'colesterol', 'glucemia_alta', 'res_ekg',\n",
    "             'max_bpm', 'ang_ej', 'oldpeak', 'num_vasos', 'thal', 'target'] # nombres de las columnas\n",
    "\n",
    "# carga datos del csv y le asigna nombres de columnas(ya que el csv no tiene cabecera)\n",
    "# buenas prácticas: abrir manualmente el archivo en un editor de texto antes de cargarlo a python\n",
    "# colocamos `header=0` porque el archivo csv ya tenía una cabecera, la cual sobreescribimos con el argumento `names`.\n",
    "# no olvidar indicar el delimitador adecuado\n",
    "# colocamos `index_col=False`, porque no queremos que la primera columna del dataset la considere como columna index \n",
    "\n",
    "heart_data = pd.read_csv(filename, names=col_names, header=0, delimiter=\",\",index_col=False)\n"
   ]
  },
  {
   "cell_type": "code",
   "execution_count": 18,
   "metadata": {
    "colab": {
     "base_uri": "https://localhost:8080/",
     "height": 424
    },
    "id": "hCftg-NbphQC",
    "outputId": "9f2b1f64-09b1-4223-a17e-db4fde43fe5c"
   },
   "outputs": [
    {
     "data": {
      "text/html": [
       "<div>\n",
       "<style scoped>\n",
       "    .dataframe tbody tr th:only-of-type {\n",
       "        vertical-align: middle;\n",
       "    }\n",
       "\n",
       "    .dataframe tbody tr th {\n",
       "        vertical-align: top;\n",
       "    }\n",
       "\n",
       "    .dataframe thead th {\n",
       "        text-align: right;\n",
       "    }\n",
       "</style>\n",
       "<table border=\"1\" class=\"dataframe\">\n",
       "  <thead>\n",
       "    <tr style=\"text-align: right;\">\n",
       "      <th></th>\n",
       "      <th>edad</th>\n",
       "      <th>sexo</th>\n",
       "      <th>tipo dolor pecho</th>\n",
       "      <th>pres_arterial_reposo</th>\n",
       "      <th>colesterol</th>\n",
       "      <th>glucemia_alta</th>\n",
       "      <th>res_ekg</th>\n",
       "      <th>max_bpm</th>\n",
       "      <th>ang_ej</th>\n",
       "      <th>oldpeak</th>\n",
       "      <th>num_vasos</th>\n",
       "      <th>thal</th>\n",
       "      <th>target</th>\n",
       "    </tr>\n",
       "  </thead>\n",
       "  <tbody>\n",
       "    <tr>\n",
       "      <th>0</th>\n",
       "      <td>63</td>\n",
       "      <td>1</td>\n",
       "      <td>3</td>\n",
       "      <td>145.0</td>\n",
       "      <td>233.0</td>\n",
       "      <td>1</td>\n",
       "      <td>0</td>\n",
       "      <td>150</td>\n",
       "      <td>0.0</td>\n",
       "      <td>2.3</td>\n",
       "      <td>0</td>\n",
       "      <td>0</td>\n",
       "      <td>1</td>\n",
       "    </tr>\n",
       "    <tr>\n",
       "      <th>1</th>\n",
       "      <td>37</td>\n",
       "      <td>1</td>\n",
       "      <td>2</td>\n",
       "      <td>NaN</td>\n",
       "      <td>250.0</td>\n",
       "      <td>0</td>\n",
       "      <td>1</td>\n",
       "      <td>187</td>\n",
       "      <td>NaN</td>\n",
       "      <td>3.5</td>\n",
       "      <td>0</td>\n",
       "      <td>0</td>\n",
       "      <td>2</td>\n",
       "    </tr>\n",
       "    <tr>\n",
       "      <th>2</th>\n",
       "      <td>41</td>\n",
       "      <td>0</td>\n",
       "      <td>1</td>\n",
       "      <td>NaN</td>\n",
       "      <td>204.0</td>\n",
       "      <td>0</td>\n",
       "      <td>0</td>\n",
       "      <td>172</td>\n",
       "      <td>NaN</td>\n",
       "      <td>1.4</td>\n",
       "      <td>2</td>\n",
       "      <td>0</td>\n",
       "      <td>2</td>\n",
       "    </tr>\n",
       "    <tr>\n",
       "      <th>3</th>\n",
       "      <td>56</td>\n",
       "      <td>1</td>\n",
       "      <td>1</td>\n",
       "      <td>120.0</td>\n",
       "      <td>236.0</td>\n",
       "      <td>0</td>\n",
       "      <td>1</td>\n",
       "      <td>178</td>\n",
       "      <td>NaN</td>\n",
       "      <td>0.8</td>\n",
       "      <td>2</td>\n",
       "      <td>0</td>\n",
       "      <td>2</td>\n",
       "    </tr>\n",
       "    <tr>\n",
       "      <th>4</th>\n",
       "      <td>57</td>\n",
       "      <td>0</td>\n",
       "      <td>0</td>\n",
       "      <td>120.0</td>\n",
       "      <td>354.0</td>\n",
       "      <td>0</td>\n",
       "      <td>1</td>\n",
       "      <td>163</td>\n",
       "      <td>NaN</td>\n",
       "      <td>0.6</td>\n",
       "      <td>2</td>\n",
       "      <td>0</td>\n",
       "      <td>2</td>\n",
       "    </tr>\n",
       "    <tr>\n",
       "      <th>...</th>\n",
       "      <td>...</td>\n",
       "      <td>...</td>\n",
       "      <td>...</td>\n",
       "      <td>...</td>\n",
       "      <td>...</td>\n",
       "      <td>...</td>\n",
       "      <td>...</td>\n",
       "      <td>...</td>\n",
       "      <td>...</td>\n",
       "      <td>...</td>\n",
       "      <td>...</td>\n",
       "      <td>...</td>\n",
       "      <td>...</td>\n",
       "    </tr>\n",
       "    <tr>\n",
       "      <th>298</th>\n",
       "      <td>57</td>\n",
       "      <td>0</td>\n",
       "      <td>0</td>\n",
       "      <td>140.0</td>\n",
       "      <td>241.0</td>\n",
       "      <td>0</td>\n",
       "      <td>1</td>\n",
       "      <td>123</td>\n",
       "      <td>1.0</td>\n",
       "      <td>0.2</td>\n",
       "      <td>1</td>\n",
       "      <td>0</td>\n",
       "      <td>3</td>\n",
       "    </tr>\n",
       "    <tr>\n",
       "      <th>299</th>\n",
       "      <td>45</td>\n",
       "      <td>1</td>\n",
       "      <td>3</td>\n",
       "      <td>110.0</td>\n",
       "      <td>264.0</td>\n",
       "      <td>0</td>\n",
       "      <td>1</td>\n",
       "      <td>132</td>\n",
       "      <td>0.0</td>\n",
       "      <td>1.2</td>\n",
       "      <td>1</td>\n",
       "      <td>0</td>\n",
       "      <td>3</td>\n",
       "    </tr>\n",
       "    <tr>\n",
       "      <th>300</th>\n",
       "      <td>68</td>\n",
       "      <td>1</td>\n",
       "      <td>0</td>\n",
       "      <td>144.0</td>\n",
       "      <td>193.0</td>\n",
       "      <td>1</td>\n",
       "      <td>1</td>\n",
       "      <td>141</td>\n",
       "      <td>0.0</td>\n",
       "      <td>3.4</td>\n",
       "      <td>1</td>\n",
       "      <td>2</td>\n",
       "      <td>3</td>\n",
       "    </tr>\n",
       "    <tr>\n",
       "      <th>301</th>\n",
       "      <td>57</td>\n",
       "      <td>1</td>\n",
       "      <td>0</td>\n",
       "      <td>NaN</td>\n",
       "      <td>131.0</td>\n",
       "      <td>0</td>\n",
       "      <td>1</td>\n",
       "      <td>115</td>\n",
       "      <td>1.0</td>\n",
       "      <td>1.2</td>\n",
       "      <td>1</td>\n",
       "      <td>1</td>\n",
       "      <td>3</td>\n",
       "    </tr>\n",
       "    <tr>\n",
       "      <th>302</th>\n",
       "      <td>57</td>\n",
       "      <td>0</td>\n",
       "      <td>1</td>\n",
       "      <td>NaN</td>\n",
       "      <td>236.0</td>\n",
       "      <td>0</td>\n",
       "      <td>0</td>\n",
       "      <td>174</td>\n",
       "      <td>0.0</td>\n",
       "      <td>0.0</td>\n",
       "      <td>1</td>\n",
       "      <td>1</td>\n",
       "      <td>2</td>\n",
       "    </tr>\n",
       "  </tbody>\n",
       "</table>\n",
       "<p>303 rows × 13 columns</p>\n",
       "</div>"
      ],
      "text/plain": [
       "     edad  sexo  tipo dolor pecho  pres_arterial_reposo  colesterol  \\\n",
       "0      63     1                 3                 145.0       233.0   \n",
       "1      37     1                 2                   NaN       250.0   \n",
       "2      41     0                 1                   NaN       204.0   \n",
       "3      56     1                 1                 120.0       236.0   \n",
       "4      57     0                 0                 120.0       354.0   \n",
       "..    ...   ...               ...                   ...         ...   \n",
       "298    57     0                 0                 140.0       241.0   \n",
       "299    45     1                 3                 110.0       264.0   \n",
       "300    68     1                 0                 144.0       193.0   \n",
       "301    57     1                 0                   NaN       131.0   \n",
       "302    57     0                 1                   NaN       236.0   \n",
       "\n",
       "     glucemia_alta  res_ekg  max_bpm  ang_ej  oldpeak  num_vasos  thal  target  \n",
       "0                1        0      150     0.0      2.3          0     0       1  \n",
       "1                0        1      187     NaN      3.5          0     0       2  \n",
       "2                0        0      172     NaN      1.4          2     0       2  \n",
       "3                0        1      178     NaN      0.8          2     0       2  \n",
       "4                0        1      163     NaN      0.6          2     0       2  \n",
       "..             ...      ...      ...     ...      ...        ...   ...     ...  \n",
       "298              0        1      123     1.0      0.2          1     0       3  \n",
       "299              0        1      132     0.0      1.2          1     0       3  \n",
       "300              1        1      141     0.0      3.4          1     2       3  \n",
       "301              0        1      115     1.0      1.2          1     1       3  \n",
       "302              0        0      174     0.0      0.0          1     1       2  \n",
       "\n",
       "[303 rows x 13 columns]"
      ]
     },
     "execution_count": 18,
     "metadata": {},
     "output_type": "execute_result"
    }
   ],
   "source": [
    "heart_data # muestra los 5 primeros registros del DataFrame"
   ]
  },
  {
   "cell_type": "markdown",
   "metadata": {
    "id": "xFwtmx1bP896"
   },
   "source": [
    "- Mostrar la matriz de correlación (valores numéricos y gráfico coloreado)."
   ]
  },
  {
   "cell_type": "code",
   "execution_count": 19,
   "metadata": {
    "colab": {
     "base_uri": "https://localhost:8080/"
    },
    "id": "LQWUe-4FQelo",
    "outputId": "feec6d02-8251-412b-adeb-2daa137f6ffb"
   },
   "outputs": [
    {
     "name": "stdout",
     "output_type": "stream",
     "text": [
      "                          edad      sexo  tipo dolor pecho  \\\n",
      "edad                  1.000000 -0.098447         -0.068653   \n",
      "sexo                 -0.098447  1.000000         -0.049353   \n",
      "tipo dolor pecho     -0.068653 -0.049353          1.000000   \n",
      "pres_arterial_reposo  0.294176 -0.061099          0.049834   \n",
      "colesterol            0.214715 -0.198338         -0.077143   \n",
      "glucemia_alta         0.121308  0.045032          0.094444   \n",
      "res_ekg              -0.116211 -0.058196          0.044421   \n",
      "max_bpm              -0.398522 -0.044020          0.295762   \n",
      "ang_ej                0.045937 -0.466667         -0.534263   \n",
      "oldpeak               0.210013  0.096093         -0.149230   \n",
      "num_vasos            -0.168814 -0.030711          0.119717   \n",
      "thal                  0.276326  0.118261         -0.181053   \n",
      "target                0.068001  0.210041         -0.161736   \n",
      "\n",
      "                      pres_arterial_reposo  colesterol  glucemia_alta  \\\n",
      "edad                              0.294176    0.214715       0.121308   \n",
      "sexo                             -0.061099   -0.198338       0.045032   \n",
      "tipo dolor pecho                  0.049834   -0.077143       0.094444   \n",
      "pres_arterial_reposo              1.000000    0.129952       0.191220   \n",
      "colesterol                        0.129952    1.000000       0.013456   \n",
      "glucemia_alta                     0.191220    0.013456       1.000000   \n",
      "res_ekg                          -0.123121   -0.151771      -0.084189   \n",
      "max_bpm                          -0.048451   -0.010123      -0.008567   \n",
      "ang_ej                           -0.241880   -0.370138      -0.600000   \n",
      "oldpeak                           0.199224    0.054173       0.005747   \n",
      "num_vasos                        -0.129837   -0.004116      -0.059894   \n",
      "thal                              0.107647    0.071790       0.137979   \n",
      "target                            0.064200    0.099604      -0.032019   \n",
      "\n",
      "                       res_ekg   max_bpm    ang_ej   oldpeak  num_vasos  \\\n",
      "edad                 -0.116211 -0.398522  0.045937  0.210013  -0.168814   \n",
      "sexo                 -0.058196 -0.044020 -0.466667  0.096093  -0.030711   \n",
      "tipo dolor pecho      0.044421  0.295762 -0.534263 -0.149230   0.119717   \n",
      "pres_arterial_reposo -0.123121 -0.048451 -0.241880  0.199224  -0.129837   \n",
      "colesterol           -0.151771 -0.010123 -0.370138  0.054173  -0.004116   \n",
      "glucemia_alta        -0.084189 -0.008567 -0.600000  0.005747  -0.059894   \n",
      "res_ekg               1.000000  0.044123  0.600000 -0.058770   0.093045   \n",
      "max_bpm               0.044123  1.000000 -0.265405 -0.344187   0.386784   \n",
      "ang_ej                0.600000 -0.265405  1.000000 -0.483085   0.292770   \n",
      "oldpeak              -0.058770 -0.344187 -0.483085  1.000000  -0.577537   \n",
      "num_vasos             0.093045  0.386784  0.292770 -0.577537   1.000000   \n",
      "thal                 -0.072042 -0.213177 -0.389249  0.222682  -0.080155   \n",
      "target               -0.011981 -0.096439  0.389249  0.210244  -0.104764   \n",
      "\n",
      "                          thal    target  \n",
      "edad                  0.276326  0.068001  \n",
      "sexo                  0.118261  0.210041  \n",
      "tipo dolor pecho     -0.181053 -0.161736  \n",
      "pres_arterial_reposo  0.107647  0.064200  \n",
      "colesterol            0.071790  0.099604  \n",
      "glucemia_alta         0.137979 -0.032019  \n",
      "res_ekg              -0.072042 -0.011981  \n",
      "max_bpm              -0.213177 -0.096439  \n",
      "ang_ej               -0.389249  0.389249  \n",
      "oldpeak               0.222682  0.210244  \n",
      "num_vasos            -0.080155 -0.104764  \n",
      "thal                  1.000000  0.151832  \n",
      "target                0.151832  1.000000   \n",
      "\n"
     ]
    }
   ],
   "source": [
    "corr_df = heart_data.corr(method='pearson')\n",
    "#corr_df\n",
    "print(corr_df,\"\\n\")\n"
   ]
  },
  {
   "cell_type": "code",
   "execution_count": 20,
   "metadata": {
    "colab": {
     "base_uri": "https://localhost:8080/",
     "height": 275
    },
    "id": "Exi5K8gn1QBQ",
    "outputId": "c94f2eeb-f42c-4238-8848-7689d1670b86"
   },
   "outputs": [
    {
     "data": {
      "image/png": "[encoded data removed]",
      "text/plain": [
       "<Figure size 480x480 with 1 Axes>"
      ]
     },
     "metadata": {},
     "output_type": "display_data"
    }
   ],
   "source": [
    "import pandas as pd\n",
    "import matplotlib.pyplot as plt\n",
    "\n",
    "plt.matshow(corr_df)\n",
    "plt.show()"
   ]
  },
  {
   "cell_type": "code",
   "execution_count": 21,
   "metadata": {
    "colab": {
     "base_uri": "https://localhost:8080/",
     "height": 469
    },
    "id": "HaTljKLJ13pA",
    "outputId": "200ee11e-bcd2-49d9-d64b-930c8d2065da"
   },
   "outputs": [
    {
     "data": {
      "image/png": "[encoded data removed]",
      "text/plain": [
       "<Figure size 800x600 with 2 Axes>"
      ]
     },
     "metadata": {},
     "output_type": "display_data"
    }
   ],
   "source": [
    "import seaborn as sns\n",
    "\n",
    "plt.figure(figsize=(8, 6))\n",
    "sns.heatmap(corr_df, annot=True)\n",
    "plt.show()"
   ]
  },
  {
   "cell_type": "markdown",
   "metadata": {
    "id": "ZFfimztxdRxH"
   },
   "source": [
    "- Imprimir en pantalla las estadísticas del DataFrame incompleto usando el comando `describe` de pandas."
   ]
  },
  {
   "cell_type": "code",
   "execution_count": 22,
   "metadata": {
    "colab": {
     "base_uri": "https://localhost:8080/",
     "height": 300
    },
    "id": "nqsC4IMDnMlc",
    "outputId": "e527ca38-ad15-4107-abe5-122a4a8d367a"
   },
   "outputs": [
    {
     "data": {
      "text/html": [
       "<div>\n",
       "<style scoped>\n",
       "    .dataframe tbody tr th:only-of-type {\n",
       "        vertical-align: middle;\n",
       "    }\n",
       "\n",
       "    .dataframe tbody tr th {\n",
       "        vertical-align: top;\n",
       "    }\n",
       "\n",
       "    .dataframe thead th {\n",
       "        text-align: right;\n",
       "    }\n",
       "</style>\n",
       "<table border=\"1\" class=\"dataframe\">\n",
       "  <thead>\n",
       "    <tr style=\"text-align: right;\">\n",
       "      <th></th>\n",
       "      <th>edad</th>\n",
       "      <th>sexo</th>\n",
       "      <th>tipo dolor pecho</th>\n",
       "      <th>pres_arterial_reposo</th>\n",
       "      <th>colesterol</th>\n",
       "      <th>glucemia_alta</th>\n",
       "      <th>res_ekg</th>\n",
       "      <th>max_bpm</th>\n",
       "      <th>ang_ej</th>\n",
       "      <th>oldpeak</th>\n",
       "      <th>num_vasos</th>\n",
       "      <th>thal</th>\n",
       "      <th>target</th>\n",
       "    </tr>\n",
       "  </thead>\n",
       "  <tbody>\n",
       "    <tr>\n",
       "      <th>count</th>\n",
       "      <td>303.000000</td>\n",
       "      <td>303.000000</td>\n",
       "      <td>303.000000</td>\n",
       "      <td>267.000000</td>\n",
       "      <td>300.000000</td>\n",
       "      <td>303.000000</td>\n",
       "      <td>303.000000</td>\n",
       "      <td>303.000000</td>\n",
       "      <td>8.000000</td>\n",
       "      <td>303.000000</td>\n",
       "      <td>303.000000</td>\n",
       "      <td>303.000000</td>\n",
       "      <td>303.000000</td>\n",
       "    </tr>\n",
       "    <tr>\n",
       "      <th>mean</th>\n",
       "      <td>54.366337</td>\n",
       "      <td>0.683168</td>\n",
       "      <td>0.966997</td>\n",
       "      <td>131.842697</td>\n",
       "      <td>246.266667</td>\n",
       "      <td>0.148515</td>\n",
       "      <td>0.528053</td>\n",
       "      <td>149.646865</td>\n",
       "      <td>0.375000</td>\n",
       "      <td>1.039604</td>\n",
       "      <td>1.399340</td>\n",
       "      <td>0.729373</td>\n",
       "      <td>2.313531</td>\n",
       "    </tr>\n",
       "    <tr>\n",
       "      <th>std</th>\n",
       "      <td>9.082101</td>\n",
       "      <td>0.466011</td>\n",
       "      <td>1.032052</td>\n",
       "      <td>18.676449</td>\n",
       "      <td>52.090116</td>\n",
       "      <td>0.356198</td>\n",
       "      <td>0.525860</td>\n",
       "      <td>22.905161</td>\n",
       "      <td>0.517549</td>\n",
       "      <td>1.161075</td>\n",
       "      <td>0.616226</td>\n",
       "      <td>1.022606</td>\n",
       "      <td>0.612277</td>\n",
       "    </tr>\n",
       "    <tr>\n",
       "      <th>min</th>\n",
       "      <td>29.000000</td>\n",
       "      <td>0.000000</td>\n",
       "      <td>0.000000</td>\n",
       "      <td>94.000000</td>\n",
       "      <td>126.000000</td>\n",
       "      <td>0.000000</td>\n",
       "      <td>0.000000</td>\n",
       "      <td>71.000000</td>\n",
       "      <td>0.000000</td>\n",
       "      <td>0.000000</td>\n",
       "      <td>0.000000</td>\n",
       "      <td>0.000000</td>\n",
       "      <td>0.000000</td>\n",
       "    </tr>\n",
       "    <tr>\n",
       "      <th>25%</th>\n",
       "      <td>47.500000</td>\n",
       "      <td>0.000000</td>\n",
       "      <td>0.000000</td>\n",
       "      <td>120.000000</td>\n",
       "      <td>211.000000</td>\n",
       "      <td>0.000000</td>\n",
       "      <td>0.000000</td>\n",
       "      <td>133.500000</td>\n",
       "      <td>0.000000</td>\n",
       "      <td>0.000000</td>\n",
       "      <td>1.000000</td>\n",
       "      <td>0.000000</td>\n",
       "      <td>2.000000</td>\n",
       "    </tr>\n",
       "    <tr>\n",
       "      <th>50%</th>\n",
       "      <td>55.000000</td>\n",
       "      <td>1.000000</td>\n",
       "      <td>1.000000</td>\n",
       "      <td>128.000000</td>\n",
       "      <td>240.000000</td>\n",
       "      <td>0.000000</td>\n",
       "      <td>1.000000</td>\n",
       "      <td>153.000000</td>\n",
       "      <td>0.000000</td>\n",
       "      <td>0.800000</td>\n",
       "      <td>1.000000</td>\n",
       "      <td>0.000000</td>\n",
       "      <td>2.000000</td>\n",
       "    </tr>\n",
       "    <tr>\n",
       "      <th>75%</th>\n",
       "      <td>61.000000</td>\n",
       "      <td>1.000000</td>\n",
       "      <td>2.000000</td>\n",
       "      <td>140.000000</td>\n",
       "      <td>275.000000</td>\n",
       "      <td>0.000000</td>\n",
       "      <td>1.000000</td>\n",
       "      <td>166.000000</td>\n",
       "      <td>1.000000</td>\n",
       "      <td>1.600000</td>\n",
       "      <td>2.000000</td>\n",
       "      <td>1.000000</td>\n",
       "      <td>3.000000</td>\n",
       "    </tr>\n",
       "    <tr>\n",
       "      <th>max</th>\n",
       "      <td>77.000000</td>\n",
       "      <td>1.000000</td>\n",
       "      <td>3.000000</td>\n",
       "      <td>200.000000</td>\n",
       "      <td>564.000000</td>\n",
       "      <td>1.000000</td>\n",
       "      <td>2.000000</td>\n",
       "      <td>202.000000</td>\n",
       "      <td>1.000000</td>\n",
       "      <td>6.200000</td>\n",
       "      <td>2.000000</td>\n",
       "      <td>4.000000</td>\n",
       "      <td>3.000000</td>\n",
       "    </tr>\n",
       "  </tbody>\n",
       "</table>\n",
       "</div>"
      ],
      "text/plain": [
       "             edad        sexo  tipo dolor pecho  pres_arterial_reposo  \\\n",
       "count  303.000000  303.000000        303.000000            267.000000   \n",
       "mean    54.366337    0.683168          0.966997            131.842697   \n",
       "std      9.082101    0.466011          1.032052             18.676449   \n",
       "min     29.000000    0.000000          0.000000             94.000000   \n",
       "25%     47.500000    0.000000          0.000000            120.000000   \n",
       "50%     55.000000    1.000000          1.000000            128.000000   \n",
       "75%     61.000000    1.000000          2.000000            140.000000   \n",
       "max     77.000000    1.000000          3.000000            200.000000   \n",
       "\n",
       "       colesterol  glucemia_alta     res_ekg     max_bpm    ang_ej  \\\n",
       "count  300.000000     303.000000  303.000000  303.000000  8.000000   \n",
       "mean   246.266667       0.148515    0.528053  149.646865  0.375000   \n",
       "std     52.090116       0.356198    0.525860   22.905161  0.517549   \n",
       "min    126.000000       0.000000    0.000000   71.000000  0.000000   \n",
       "25%    211.000000       0.000000    0.000000  133.500000  0.000000   \n",
       "50%    240.000000       0.000000    1.000000  153.000000  0.000000   \n",
       "75%    275.000000       0.000000    1.000000  166.000000  1.000000   \n",
       "max    564.000000       1.000000    2.000000  202.000000  1.000000   \n",
       "\n",
       "          oldpeak   num_vasos        thal      target  \n",
       "count  303.000000  303.000000  303.000000  303.000000  \n",
       "mean     1.039604    1.399340    0.729373    2.313531  \n",
       "std      1.161075    0.616226    1.022606    0.612277  \n",
       "min      0.000000    0.000000    0.000000    0.000000  \n",
       "25%      0.000000    1.000000    0.000000    2.000000  \n",
       "50%      0.800000    1.000000    0.000000    2.000000  \n",
       "75%      1.600000    2.000000    1.000000    3.000000  \n",
       "max      6.200000    2.000000    4.000000    3.000000  "
      ]
     },
     "execution_count": 22,
     "metadata": {},
     "output_type": "execute_result"
    }
   ],
   "source": [
    "x=heart_data.describe()\n",
    "x"
   ]
  },
  {
   "cell_type": "markdown",
   "metadata": {
    "id": "Th9PTqX7ddbb"
   },
   "source": [
    "- Imprimir en pantalla la cantidad de datos faltantes por cada columna del DataFrame.\n",
    "\n",
    "\n"
   ]
  },
  {
   "cell_type": "code",
   "execution_count": 24,
   "metadata": {
    "colab": {
     "base_uri": "https://localhost:8080/"
    },
    "id": "O2o55Q9RnOAh",
    "outputId": "70a25a2c-7352-49cf-ee7d-bb7387338b52"
   },
   "outputs": [
    {
     "data": {
      "text/plain": [
       "edad                      0\n",
       "sexo                      0\n",
       "tipo dolor pecho          0\n",
       "pres_arterial_reposo     36\n",
       "colesterol                3\n",
       "glucemia_alta             0\n",
       "res_ekg                   0\n",
       "max_bpm                   0\n",
       "ang_ej                  295\n",
       "oldpeak                   0\n",
       "num_vasos                 0\n",
       "thal                      0\n",
       "target                    0\n",
       "dtype: int64"
      ]
     },
     "execution_count": 24,
     "metadata": {},
     "output_type": "execute_result"
    }
   ],
   "source": [
    "heart_data.isnull().sum()"
   ]
  },
  {
   "cell_type": "markdown",
   "metadata": {
    "id": "A4a1zm4LVi0i"
   },
   "source": [
    "#### **Ejemplo de imputación de datos**"
   ]
  },
  {
   "cell_type": "markdown",
   "metadata": {
    "id": "1KgGiVy4Vp3_"
   },
   "source": [
    "Creamos un DataFrame de ejemplo:"
   ]
  },
  {
   "cell_type": "code",
   "execution_count": 25,
   "metadata": {
    "colab": {
     "base_uri": "https://localhost:8080/",
     "height": 175
    },
    "id": "uWg2RyD4VnkA",
    "outputId": "7569771a-7fff-4063-bb62-331b72429b36"
   },
   "outputs": [
    {
     "data": {
      "text/html": [
       "<div>\n",
       "<style scoped>\n",
       "    .dataframe tbody tr th:only-of-type {\n",
       "        vertical-align: middle;\n",
       "    }\n",
       "\n",
       "    .dataframe tbody tr th {\n",
       "        vertical-align: top;\n",
       "    }\n",
       "\n",
       "    .dataframe thead th {\n",
       "        text-align: right;\n",
       "    }\n",
       "</style>\n",
       "<table border=\"1\" class=\"dataframe\">\n",
       "  <thead>\n",
       "    <tr style=\"text-align: right;\">\n",
       "      <th></th>\n",
       "      <th>a</th>\n",
       "      <th>b</th>\n",
       "      <th>c</th>\n",
       "    </tr>\n",
       "  </thead>\n",
       "  <tbody>\n",
       "    <tr>\n",
       "      <th>0</th>\n",
       "      <td>1.0</td>\n",
       "      <td>4.0</td>\n",
       "      <td>NaN</td>\n",
       "    </tr>\n",
       "    <tr>\n",
       "      <th>1</th>\n",
       "      <td>2.0</td>\n",
       "      <td>5.0</td>\n",
       "      <td>NaN</td>\n",
       "    </tr>\n",
       "    <tr>\n",
       "      <th>2</th>\n",
       "      <td>3.0</td>\n",
       "      <td>NaN</td>\n",
       "      <td>7.0</td>\n",
       "    </tr>\n",
       "    <tr>\n",
       "      <th>3</th>\n",
       "      <td>NaN</td>\n",
       "      <td>6.0</td>\n",
       "      <td>8.0</td>\n",
       "    </tr>\n",
       "  </tbody>\n",
       "</table>\n",
       "</div>"
      ],
      "text/plain": [
       "     a    b    c\n",
       "0  1.0  4.0  NaN\n",
       "1  2.0  5.0  NaN\n",
       "2  3.0  NaN  7.0\n",
       "3  NaN  6.0  8.0"
      ]
     },
     "execution_count": 25,
     "metadata": {},
     "output_type": "execute_result"
    }
   ],
   "source": [
    "import pandas as pd\n",
    "df_ejemplo = pd.DataFrame(data={'a':[1,2,3,None],'b':[4,5,None,6],'c':[None,None,7,8]})\n",
    "df_ejemplo"
   ]
  },
  {
   "cell_type": "markdown",
   "metadata": {
    "id": "iyVvOvGZVx8-"
   },
   "source": [
    "Vamos a reemplazar los `NaN` de la columna `b` y `c` por `0`. "
   ]
  },
  {
   "cell_type": "code",
   "execution_count": 26,
   "metadata": {
    "colab": {
     "base_uri": "https://localhost:8080/",
     "height": 175
    },
    "id": "C-yNA66wWAvJ",
    "outputId": "60feeb76-5d87-44dc-de60-24ab7f8f8966"
   },
   "outputs": [
    {
     "data": {
      "text/html": [
       "<div>\n",
       "<style scoped>\n",
       "    .dataframe tbody tr th:only-of-type {\n",
       "        vertical-align: middle;\n",
       "    }\n",
       "\n",
       "    .dataframe tbody tr th {\n",
       "        vertical-align: top;\n",
       "    }\n",
       "\n",
       "    .dataframe thead th {\n",
       "        text-align: right;\n",
       "    }\n",
       "</style>\n",
       "<table border=\"1\" class=\"dataframe\">\n",
       "  <thead>\n",
       "    <tr style=\"text-align: right;\">\n",
       "      <th></th>\n",
       "      <th>a</th>\n",
       "      <th>b</th>\n",
       "      <th>c</th>\n",
       "    </tr>\n",
       "  </thead>\n",
       "  <tbody>\n",
       "    <tr>\n",
       "      <th>0</th>\n",
       "      <td>1.0</td>\n",
       "      <td>4.0</td>\n",
       "      <td>0.0</td>\n",
       "    </tr>\n",
       "    <tr>\n",
       "      <th>1</th>\n",
       "      <td>2.0</td>\n",
       "      <td>5.0</td>\n",
       "      <td>0.0</td>\n",
       "    </tr>\n",
       "    <tr>\n",
       "      <th>2</th>\n",
       "      <td>3.0</td>\n",
       "      <td>0.0</td>\n",
       "      <td>7.0</td>\n",
       "    </tr>\n",
       "    <tr>\n",
       "      <th>3</th>\n",
       "      <td>NaN</td>\n",
       "      <td>6.0</td>\n",
       "      <td>8.0</td>\n",
       "    </tr>\n",
       "  </tbody>\n",
       "</table>\n",
       "</div>"
      ],
      "text/plain": [
       "     a    b    c\n",
       "0  1.0  4.0  0.0\n",
       "1  2.0  5.0  0.0\n",
       "2  3.0  0.0  7.0\n",
       "3  NaN  6.0  8.0"
      ]
     },
     "execution_count": 26,
     "metadata": {},
     "output_type": "execute_result"
    }
   ],
   "source": [
    "df_ejemplo[['b', 'c']] = df_ejemplo[['b','c']].fillna(0)\n",
    "df_ejemplo"
   ]
  },
  {
   "cell_type": "markdown",
   "metadata": {
    "id": "eOOctKbOVkIj"
   },
   "source": [
    "**Copiar** el dataset a una nueva variable, en la cual vamos a realizar las imputaciones de datos:"
   ]
  },
  {
   "cell_type": "code",
   "execution_count": null,
   "metadata": {
    "id": "TPAkXhapi5Uv"
   },
   "outputs": [],
   "source": [
    "data_imputed = df_ejemplo.copy()"
   ]
  },
  {
   "cell_type": "code",
   "execution_count": null,
   "metadata": {
    "colab": {
     "base_uri": "https://localhost:8080/",
     "height": 300
    },
    "id": "ZCvPmvZ7i_aK",
    "outputId": "0b9187d9-4530-4fce-e82d-2112e04db7fe"
   },
   "outputs": [
    {
     "data": {
      "text/html": [
       "\n",
       "  <div id=\"df-fd759d24-5b65-42e8-af91-2a99c35a5e38\">\n",
       "    <div class=\"colab-df-container\">\n",
       "      <div>\n",
       "<style scoped>\n",
       "    .dataframe tbody tr th:only-of-type {\n",
       "        vertical-align: middle;\n",
       "    }\n",
       "\n",
       "    .dataframe tbody tr th {\n",
       "        vertical-align: top;\n",
       "    }\n",
       "\n",
       "    .dataframe thead th {\n",
       "        text-align: right;\n",
       "    }\n",
       "</style>\n",
       "<table border=\"1\" class=\"dataframe\">\n",
       "  <thead>\n",
       "    <tr style=\"text-align: right;\">\n",
       "      <th></th>\n",
       "      <th>a</th>\n",
       "      <th>b</th>\n",
       "      <th>c</th>\n",
       "    </tr>\n",
       "  </thead>\n",
       "  <tbody>\n",
       "    <tr>\n",
       "      <th>count</th>\n",
       "      <td>3.0</td>\n",
       "      <td>4.000000</td>\n",
       "      <td>4.000000</td>\n",
       "    </tr>\n",
       "    <tr>\n",
       "      <th>mean</th>\n",
       "      <td>2.0</td>\n",
       "      <td>3.750000</td>\n",
       "      <td>3.750000</td>\n",
       "    </tr>\n",
       "    <tr>\n",
       "      <th>std</th>\n",
       "      <td>1.0</td>\n",
       "      <td>2.629956</td>\n",
       "      <td>4.349329</td>\n",
       "    </tr>\n",
       "    <tr>\n",
       "      <th>min</th>\n",
       "      <td>1.0</td>\n",
       "      <td>0.000000</td>\n",
       "      <td>0.000000</td>\n",
       "    </tr>\n",
       "    <tr>\n",
       "      <th>25%</th>\n",
       "      <td>1.5</td>\n",
       "      <td>3.000000</td>\n",
       "      <td>0.000000</td>\n",
       "    </tr>\n",
       "    <tr>\n",
       "      <th>50%</th>\n",
       "      <td>2.0</td>\n",
       "      <td>4.500000</td>\n",
       "      <td>3.500000</td>\n",
       "    </tr>\n",
       "    <tr>\n",
       "      <th>75%</th>\n",
       "      <td>2.5</td>\n",
       "      <td>5.250000</td>\n",
       "      <td>7.250000</td>\n",
       "    </tr>\n",
       "    <tr>\n",
       "      <th>max</th>\n",
       "      <td>3.0</td>\n",
       "      <td>6.000000</td>\n",
       "      <td>8.000000</td>\n",
       "    </tr>\n",
       "  </tbody>\n",
       "</table>\n",
       "</div>\n",
       "      <button class=\"colab-df-convert\" onclick=\"convertToInteractive('df-fd759d24-5b65-42e8-af91-2a99c35a5e38')\"\n",
       "              title=\"Convert this dataframe to an interactive table.\"\n",
       "              style=\"display:none;\">\n",
       "        \n",
       "  <svg xmlns=\"http://www.w3.org/2000/svg\" height=\"24px\"viewBox=\"0 0 24 24\"\n",
       "       width=\"24px\">\n",
       "    <path d=\"M0 0h24v24H0V0z\" fill=\"none\"/>\n",
       "    <path d=\"M18.56 5.44l.94 2.06.94-2.06 2.06-.94-2.06-.94-.94-2.06-.94 2.06-2.06.94zm-11 1L8.5 8.5l.94-2.06 2.06-.94-2.06-.94L8.5 2.5l-.94 2.06-2.06.94zm10 10l.94 2.06.94-2.06 2.06-.94-2.06-.94-.94-2.06-.94 2.06-2.06.94z\"/><path d=\"M17.41 7.96l-1.37-1.37c-.4-.4-.92-.59-1.43-.59-.52 0-1.04.2-1.43.59L10.3 9.45l-7.72 7.72c-.78.78-.78 2.05 0 2.83L4 21.41c.39.39.9.59 1.41.59.51 0 1.02-.2 1.41-.59l7.78-7.78 2.81-2.81c.8-.78.8-2.07 0-2.86zM5.41 20L4 18.59l7.72-7.72 1.47 1.35L5.41 20z\"/>\n",
       "  </svg>\n",
       "      </button>\n",
       "      \n",
       "  <style>\n",
       "    .colab-df-container {\n",
       "      display:flex;\n",
       "      flex-wrap:wrap;\n",
       "      gap: 12px;\n",
       "    }\n",
       "\n",
       "    .colab-df-convert {\n",
       "      background-color: #E8F0FE;\n",
       "      border: none;\n",
       "      border-radius: 50%;\n",
       "      cursor: pointer;\n",
       "      display: none;\n",
       "      fill: #1967D2;\n",
       "      height: 32px;\n",
       "      padding: 0 0 0 0;\n",
       "      width: 32px;\n",
       "    }\n",
       "\n",
       "    .colab-df-convert:hover {\n",
       "      background-color: #E2EBFA;\n",
       "      box-shadow: 0px 1px 2px rgba(60, 64, 67, 0.3), 0px 1px 3px 1px rgba(60, 64, 67, 0.15);\n",
       "      fill: #174EA6;\n",
       "    }\n",
       "\n",
       "    [theme=dark] .colab-df-convert {\n",
       "      background-color: #3B4455;\n",
       "      fill: #D2E3FC;\n",
       "    }\n",
       "\n",
       "    [theme=dark] .colab-df-convert:hover {\n",
       "      background-color: #434B5C;\n",
       "      box-shadow: 0px 1px 3px 1px rgba(0, 0, 0, 0.15);\n",
       "      filter: drop-shadow(0px 1px 2px rgba(0, 0, 0, 0.3));\n",
       "      fill: #FFFFFF;\n",
       "    }\n",
       "  </style>\n",
       "\n",
       "      <script>\n",
       "        const buttonEl =\n",
       "          document.querySelector('#df-fd759d24-5b65-42e8-af91-2a99c35a5e38 button.colab-df-convert');\n",
       "        buttonEl.style.display =\n",
       "          google.colab.kernel.accessAllowed ? 'block' : 'none';\n",
       "\n",
       "        async function convertToInteractive(key) {\n",
       "          const element = document.querySelector('#df-fd759d24-5b65-42e8-af91-2a99c35a5e38');\n",
       "          const dataTable =\n",
       "            await google.colab.kernel.invokeFunction('convertToInteractive',\n",
       "                                                     [key], {});\n",
       "          if (!dataTable) return;\n",
       "\n",
       "          const docLinkHtml = 'Like what you see? Visit the ' +\n",
       "            '<a target=\"_blank\" href=https://colab.research.google.com/notebooks/data_table.ipynb>data table notebook</a>'\n",
       "            + ' to learn more about interactive tables.';\n",
       "          element.innerHTML = '';\n",
       "          dataTable['output_type'] = 'display_data';\n",
       "          await google.colab.output.renderOutput(dataTable, element);\n",
       "          const docLink = document.createElement('div');\n",
       "          docLink.innerHTML = docLinkHtml;\n",
       "          element.appendChild(docLink);\n",
       "        }\n",
       "      </script>\n",
       "    </div>\n",
       "  </div>\n",
       "  "
      ],
      "text/plain": [
       "         a         b         c\n",
       "count  3.0  4.000000  4.000000\n",
       "mean   2.0  3.750000  3.750000\n",
       "std    1.0  2.629956  4.349329\n",
       "min    1.0  0.000000  0.000000\n",
       "25%    1.5  3.000000  0.000000\n",
       "50%    2.0  4.500000  3.500000\n",
       "75%    2.5  5.250000  7.250000\n",
       "max    3.0  6.000000  8.000000"
      ]
     },
     "execution_count": 68,
     "metadata": {},
     "output_type": "execute_result"
    }
   ],
   "source": [
    "data_imputed.describe() # utilizando la estadistica descriptiva, observamos la media, mediana, etc."
   ]
  }
 ],
 "metadata": {
  "accelerator": "TPU",
  "colab": {
   "collapsed_sections": [],
   "provenance": []
  },
  "kernelspec": {
   "display_name": "Python 3.9.13 ('base')",
   "language": "python",
   "name": "python3"
  },
  "language_info": {
   "codemirror_mode": {
    "name": "ipython",
    "version": 3
   },
   "file_extension": ".py",
   "mimetype": "text/x-python",
   "name": "python",
   "nbconvert_exporter": "python",
   "pygments_lexer": "ipython3",
   "version": "3.9.13"
  },
  "vscode": {
   "interpreter": {
    "hash": "dc07d24e2f18896857f0b2a651fe84ba40ce7b297e58d8804a308c8039f752a6"
   }
  }
 },
 "nbformat": 4,
 "nbformat_minor": 1
}
