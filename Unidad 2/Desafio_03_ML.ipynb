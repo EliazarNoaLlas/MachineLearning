{
  "cells": [
    {
      "cell_type": "markdown",
      "metadata": {
        "id": "CObXGsgbnInt"
      },
      "source": [
        "# **Laboratorio de Machine Learning**\n",
        "\n",
        "# ***Modelo de Regresión Lineal para aprendizaje supervisado***\n",
        "\n",
        "# <font color=blue>**Desafío 03**</font>"
      ]
    },
    {
      "cell_type": "markdown",
      "metadata": {},
      "source": [
        "* Convencer que tenemos buenos criterios\n",
        "* Explicacion"
      ]
    },
    {
      "cell_type": "markdown",
      "metadata": {
        "id": "-j1to1rXoNkZ"
      },
      "source": [
        "Utilizando el dataset de la flor de iris (Iris_missing.csv) construya los modelos de aprendizaje utilizando el modelo de regresión lineal (llamado tambien modelo de regresión lineal simple)"
      ]
    },
    {
      "cell_type": "markdown",
      "metadata": {},
      "source": [
        "## LIBRERIAS"
      ]
    },
    {
      "cell_type": "code",
      "execution_count": 10,
      "metadata": {
        "id": "iMJ7Snz2gpUs"
      },
      "outputs": [],
      "source": [
        "# ================ librerias Necesarias ================\n",
        "import matplotlib.pyplot as plt\n",
        "import numpy as np\n",
        "import pandas as pd\n",
        "import seaborn as sns\n",
        "import warnings\n",
        "import seaborn as sns\n",
        "import matplotlib.pyplot as plt\n"
      ]
    },
    {
      "cell_type": "markdown",
      "metadata": {},
      "source": [
        "## 1 Recoleccion de los datos"
      ]
    },
    {
      "cell_type": "code",
      "execution_count": 11,
      "metadata": {
        "id": "fHFJScDog1ly"
      },
      "outputs": [
        {
          "data": {
            "text/html": [
              "<div>\n",
              "<style scoped>\n",
              "    .dataframe tbody tr th:only-of-type {\n",
              "        vertical-align: middle;\n",
              "    }\n",
              "\n",
              "    .dataframe tbody tr th {\n",
              "        vertical-align: top;\n",
              "    }\n",
              "\n",
              "    .dataframe thead th {\n",
              "        text-align: right;\n",
              "    }\n",
              "</style>\n",
              "<table border=\"1\" class=\"dataframe\">\n",
              "  <thead>\n",
              "    <tr style=\"text-align: right;\">\n",
              "      <th></th>\n",
              "      <th>sepal-length</th>\n",
              "      <th>sepal-width</th>\n",
              "      <th>petal-length</th>\n",
              "      <th>petal-width</th>\n",
              "      <th>class</th>\n",
              "    </tr>\n",
              "  </thead>\n",
              "  <tbody>\n",
              "    <tr>\n",
              "      <th>0</th>\n",
              "      <td>5.1</td>\n",
              "      <td>3.5</td>\n",
              "      <td>1.4</td>\n",
              "      <td>0.2</td>\n",
              "      <td>Iris-setosa</td>\n",
              "    </tr>\n",
              "    <tr>\n",
              "      <th>1</th>\n",
              "      <td>4.9</td>\n",
              "      <td>3.0</td>\n",
              "      <td>1.4</td>\n",
              "      <td>0.2</td>\n",
              "      <td>Iris-setosa</td>\n",
              "    </tr>\n",
              "    <tr>\n",
              "      <th>2</th>\n",
              "      <td>4.7</td>\n",
              "      <td>3.2</td>\n",
              "      <td>1.3</td>\n",
              "      <td>0.2</td>\n",
              "      <td>Iris-setosa</td>\n",
              "    </tr>\n",
              "    <tr>\n",
              "      <th>3</th>\n",
              "      <td>4.6</td>\n",
              "      <td>3.1</td>\n",
              "      <td>1.5</td>\n",
              "      <td>0.2</td>\n",
              "      <td>Iris-setosa</td>\n",
              "    </tr>\n",
              "    <tr>\n",
              "      <th>4</th>\n",
              "      <td>5.0</td>\n",
              "      <td>3.6</td>\n",
              "      <td>1.4</td>\n",
              "      <td>0.2</td>\n",
              "      <td>Iris-setosa</td>\n",
              "    </tr>\n",
              "  </tbody>\n",
              "</table>\n",
              "</div>"
            ],
            "text/plain": [
              "   sepal-length  sepal-width  petal-length  petal-width        class\n",
              "0           5.1          3.5           1.4          0.2  Iris-setosa\n",
              "1           4.9          3.0           1.4          0.2  Iris-setosa\n",
              "2           4.7          3.2           1.3          0.2  Iris-setosa\n",
              "3           4.6          3.1           1.5          0.2  Iris-setosa\n",
              "4           5.0          3.6           1.4          0.2  Iris-setosa"
            ]
          },
          "execution_count": 11,
          "metadata": {},
          "output_type": "execute_result"
        }
      ],
      "source": [
        "data = pd.read_csv('Iris_missing.csv', sep=\",\")\n",
        "data.head()"
      ]
    },
    {
      "cell_type": "code",
      "execution_count": 12,
      "metadata": {},
      "outputs": [
        {
          "data": {
            "text/plain": [
              "Index(['sepal-length', 'sepal-width', 'petal-length', 'petal-width', 'class'], dtype='object')"
            ]
          },
          "execution_count": 12,
          "metadata": {},
          "output_type": "execute_result"
        }
      ],
      "source": [
        "# -- Lita de Caracteristicas\n",
        "data.columns"
      ]
    },
    {
      "cell_type": "markdown",
      "metadata": {},
      "source": [
        "## 2 Describir los datos"
      ]
    },
    {
      "cell_type": "code",
      "execution_count": 13,
      "metadata": {},
      "outputs": [
        {
          "name": "stdout",
          "output_type": "stream",
          "text": [
            "<class 'pandas.core.frame.DataFrame'>\n",
            "RangeIndex: 150 entries, 0 to 149\n",
            "Data columns (total 5 columns):\n",
            " #   Column        Non-Null Count  Dtype  \n",
            "---  ------        --------------  -----  \n",
            " 0   sepal-length  146 non-null    float64\n",
            " 1   sepal-width   146 non-null    float64\n",
            " 2   petal-length  147 non-null    float64\n",
            " 3   petal-width   147 non-null    float64\n",
            " 4   class         148 non-null    object \n",
            "dtypes: float64(4), object(1)\n",
            "memory usage: 6.0+ KB\n"
          ]
        }
      ],
      "source": [
        "# -- Informacion del dataframe y los tipos de datos de las columnas\n",
        "data.info()"
      ]
    },
    {
      "cell_type": "code",
      "execution_count": 14,
      "metadata": {},
      "outputs": [
        {
          "name": "stdout",
          "output_type": "stream",
          "text": [
            "<class 'pandas.core.series.Series'>\n"
          ]
        },
        {
          "data": {
            "text/plain": [
              "0    Iris-setosa\n",
              "1    Iris-setosa\n",
              "2    Iris-setosa\n",
              "3    Iris-setosa\n",
              "4    Iris-setosa\n",
              "Name: class, dtype: object"
            ]
          },
          "execution_count": 14,
          "metadata": {},
          "output_type": "execute_result"
        }
      ],
      "source": [
        "# Estructura Serie\n",
        "Y = data['class']\n",
        "print(type(Y))\n",
        "Y.head()"
      ]
    },
    {
      "cell_type": "markdown",
      "metadata": {},
      "source": [
        "### 2.1 Variable Class"
      ]
    },
    {
      "cell_type": "code",
      "execution_count": 15,
      "metadata": {},
      "outputs": [
        {
          "data": {
            "text/plain": [
              "<AxesSubplot:xlabel='class', ylabel='count'>"
            ]
          },
          "execution_count": 15,
          "metadata": {},
          "output_type": "execute_result"
        },
        {
          "data": {
            "image/png": "[encoded data removed]",
            "text/plain": [
              "<Figure size 640x480 with 1 Axes>"
            ]
          },
          "metadata": {},
          "output_type": "display_data"
        }
      ],
      "source": [
        "warnings.filterwarnings('ignore')\n",
        "sns.countplot('class', data=data)"
      ]
    },
    {
      "cell_type": "markdown",
      "metadata": {},
      "source": [
        "*Comentario: Como se observa el grafico existe igual cantidad de clases de flores*"
      ]
    },
    {
      "cell_type": "markdown",
      "metadata": {},
      "source": [
        "* verificar si hay datos faltantes\n",
        "* si hay datos faltas realizar imputacion de datos (opcional)"
      ]
    },
    {
      "cell_type": "markdown",
      "metadata": {},
      "source": [
        "### 2.2 Variable Sepal"
      ]
    },
    {
      "cell_type": "markdown",
      "metadata": {},
      "source": [
        "FaceGrid: Esta clase mapea conjunto de datos en varios ejes dispuestos en una cuadricula de filas y columnas\n",
        "\n",
        "Parametros:\n",
        "data: DataFrame\n",
        "row,col,hue: variables que se definen subconjunto de datos\n",
        "\n",
        "hue: Puede representar niveles de una tercera variable, traza diferentes subcojuntos de datos en diferentes colores\n",
        "\n"
      ]
    },
    {
      "cell_type": "code",
      "execution_count": 55,
      "metadata": {},
      "outputs": [
        {
          "data": {
            "text/plain": [
              "<seaborn.axisgrid.FacetGrid at 0x19ff50a2fd0>"
            ]
          },
          "execution_count": 55,
          "metadata": {},
          "output_type": "execute_result"
        },
        {
          "data": {
            "image/png": "[encoded data removed]",
            "text/plain": [
              "<Figure size 558.875x500 with 1 Axes>"
            ]
          },
          "metadata": {},
          "output_type": "display_data"
        }
      ],
      "source": [
        "sns.FacetGrid(data, hue='class', size=5)\\\n",
        "    .map(plt.scatter,'sepal-length','sepal-width')\\\n",
        "        .add_legend()"
      ]
    },
    {
      "cell_type": "markdown",
      "metadata": {},
      "source": [
        "*Como se observa en el grafo de dispersion exite una varianza entre la clase 1 y las 2 y 3 pero estas dos ultimas son casi semejantes o tiene los mismos tamanos desepal*"
      ]
    },
    {
      "cell_type": "markdown",
      "metadata": {},
      "source": [
        "### 2.3 Variable Petal"
      ]
    },
    {
      "cell_type": "code",
      "execution_count": 51,
      "metadata": {},
      "outputs": [
        {
          "data": {
            "text/plain": [
              "<seaborn.axisgrid.FacetGrid at 0x19ff36b0c10>"
            ]
          },
          "execution_count": 51,
          "metadata": {},
          "output_type": "execute_result"
        },
        {
          "data": {
            "image/png": "[encoded data removed]",
            "text/plain": [
              "<Figure size 558.875x500 with 1 Axes>"
            ]
          },
          "metadata": {},
          "output_type": "display_data"
        }
      ],
      "source": [
        "sns.FacetGrid(data=data, hue='class', size=5)\\\n",
        "    .map(plt.scatter,'petal-length','petal-width')\\\n",
        "        .add_legend()"
      ]
    },
    {
      "cell_type": "markdown",
      "metadata": {},
      "source": [
        "## 3 Pre-Procesamiento de los datos"
      ]
    },
    {
      "cell_type": "markdown",
      "metadata": {},
      "source": [
        "Verificamos si hay valores faltantes"
      ]
    },
    {
      "cell_type": "code",
      "execution_count": 18,
      "metadata": {},
      "outputs": [
        {
          "data": {
            "text/plain": [
              "sepal-length    4\n",
              "sepal-width     4\n",
              "petal-length    3\n",
              "petal-width     3\n",
              "class           2\n",
              "dtype: int64"
            ]
          },
          "execution_count": 18,
          "metadata": {},
          "output_type": "execute_result"
        }
      ],
      "source": [
        "# Verificando si hay valores faltantes por cada columna \n",
        "data.isnull().sum()"
      ]
    },
    {
      "cell_type": "markdown",
      "metadata": {},
      "source": [
        "* *Existen 4 valores faltantes en la columna sepal-length*\n",
        "* *Existen 4 valores faltantes en la columna sepal-width*\n",
        "* *Existen 3 valores faltantes en la columna petal-length*\n",
        "* *Existen 3 valores faltantes en la columna petal-width*\n",
        "* *Existen 2 valores faltantes en la columna class*"
      ]
    },
    {
      "cell_type": "markdown",
      "metadata": {},
      "source": [
        "Determinamos la posicion donde se encuentran los valores faltantes"
      ]
    },
    {
      "cell_type": "code",
      "execution_count": 19,
      "metadata": {},
      "outputs": [
        {
          "data": {
            "text/html": [
              "<div>\n",
              "<style scoped>\n",
              "    .dataframe tbody tr th:only-of-type {\n",
              "        vertical-align: middle;\n",
              "    }\n",
              "\n",
              "    .dataframe tbody tr th {\n",
              "        vertical-align: top;\n",
              "    }\n",
              "\n",
              "    .dataframe thead th {\n",
              "        text-align: right;\n",
              "    }\n",
              "</style>\n",
              "<table border=\"1\" class=\"dataframe\">\n",
              "  <thead>\n",
              "    <tr style=\"text-align: right;\">\n",
              "      <th></th>\n",
              "      <th>sepal-length</th>\n",
              "      <th>sepal-width</th>\n",
              "      <th>petal-length</th>\n",
              "      <th>petal-width</th>\n",
              "      <th>class</th>\n",
              "    </tr>\n",
              "  </thead>\n",
              "  <tbody>\n",
              "    <tr>\n",
              "      <th>30</th>\n",
              "      <td>4.8</td>\n",
              "      <td>3.1</td>\n",
              "      <td>1.6</td>\n",
              "      <td>0.2</td>\n",
              "      <td>NaN</td>\n",
              "    </tr>\n",
              "    <tr>\n",
              "      <th>110</th>\n",
              "      <td>6.5</td>\n",
              "      <td>3.2</td>\n",
              "      <td>5.1</td>\n",
              "      <td>2.0</td>\n",
              "      <td>NaN</td>\n",
              "    </tr>\n",
              "  </tbody>\n",
              "</table>\n",
              "</div>"
            ],
            "text/plain": [
              "     sepal-length  sepal-width  petal-length  petal-width class\n",
              "30            4.8          3.1           1.6          0.2   NaN\n",
              "110           6.5          3.2           5.1          2.0   NaN"
            ]
          },
          "execution_count": 19,
          "metadata": {},
          "output_type": "execute_result"
        }
      ],
      "source": [
        "# datos faltantes de class\n",
        "bool_series = pd.isnull(data[\"class\"])  \n",
        "data[bool_series]  "
      ]
    },
    {
      "cell_type": "code",
      "execution_count": 20,
      "metadata": {},
      "outputs": [
        {
          "data": {
            "text/html": [
              "<div>\n",
              "<style scoped>\n",
              "    .dataframe tbody tr th:only-of-type {\n",
              "        vertical-align: middle;\n",
              "    }\n",
              "\n",
              "    .dataframe tbody tr th {\n",
              "        vertical-align: top;\n",
              "    }\n",
              "\n",
              "    .dataframe thead th {\n",
              "        text-align: right;\n",
              "    }\n",
              "</style>\n",
              "<table border=\"1\" class=\"dataframe\">\n",
              "  <thead>\n",
              "    <tr style=\"text-align: right;\">\n",
              "      <th></th>\n",
              "      <th>sepal-length</th>\n",
              "      <th>sepal-width</th>\n",
              "      <th>petal-length</th>\n",
              "      <th>petal-width</th>\n",
              "      <th>class</th>\n",
              "    </tr>\n",
              "  </thead>\n",
              "  <tbody>\n",
              "    <tr>\n",
              "      <th>25</th>\n",
              "      <td>NaN</td>\n",
              "      <td>3.0</td>\n",
              "      <td>1.6</td>\n",
              "      <td>0.2</td>\n",
              "      <td>Iris-setosa</td>\n",
              "    </tr>\n",
              "    <tr>\n",
              "      <th>44</th>\n",
              "      <td>NaN</td>\n",
              "      <td>NaN</td>\n",
              "      <td>1.9</td>\n",
              "      <td>0.4</td>\n",
              "      <td>Iris-setosa</td>\n",
              "    </tr>\n",
              "    <tr>\n",
              "      <th>129</th>\n",
              "      <td>NaN</td>\n",
              "      <td>3.0</td>\n",
              "      <td>5.8</td>\n",
              "      <td>1.6</td>\n",
              "      <td>Iris-virginica</td>\n",
              "    </tr>\n",
              "    <tr>\n",
              "      <th>137</th>\n",
              "      <td>NaN</td>\n",
              "      <td>3.1</td>\n",
              "      <td>5.5</td>\n",
              "      <td>NaN</td>\n",
              "      <td>Iris-virginica</td>\n",
              "    </tr>\n",
              "  </tbody>\n",
              "</table>\n",
              "</div>"
            ],
            "text/plain": [
              "     sepal-length  sepal-width  petal-length  petal-width           class\n",
              "25            NaN          3.0           1.6          0.2     Iris-setosa\n",
              "44            NaN          NaN           1.9          0.4     Iris-setosa\n",
              "129           NaN          3.0           5.8          1.6  Iris-virginica\n",
              "137           NaN          3.1           5.5          NaN  Iris-virginica"
            ]
          },
          "execution_count": 20,
          "metadata": {},
          "output_type": "execute_result"
        }
      ],
      "source": [
        "# datos faltantes de sepal-length\n",
        "bool_series = pd.isnull(data[\"sepal-length\"])  \n",
        "data[bool_series] "
      ]
    },
    {
      "cell_type": "code",
      "execution_count": 21,
      "metadata": {},
      "outputs": [
        {
          "name": "stdout",
          "output_type": "stream",
          "text": [
            "Iris-setosa\n",
            "nan\n",
            "Iris-versicolor\n",
            "Iris-virginica\n"
          ]
        }
      ],
      "source": [
        "unicos = data['class'].unique()\n",
        "for clas in unicos:\n",
        "    print(clas)"
      ]
    },
    {
      "cell_type": "code",
      "execution_count": 22,
      "metadata": {},
      "outputs": [
        {
          "data": {
            "text/html": [
              "<div>\n",
              "<style scoped>\n",
              "    .dataframe tbody tr th:only-of-type {\n",
              "        vertical-align: middle;\n",
              "    }\n",
              "\n",
              "    .dataframe tbody tr th {\n",
              "        vertical-align: top;\n",
              "    }\n",
              "\n",
              "    .dataframe thead th {\n",
              "        text-align: right;\n",
              "    }\n",
              "</style>\n",
              "<table border=\"1\" class=\"dataframe\">\n",
              "  <thead>\n",
              "    <tr style=\"text-align: right;\">\n",
              "      <th></th>\n",
              "      <th>sepal-length</th>\n",
              "      <th>sepal-width</th>\n",
              "      <th>petal-length</th>\n",
              "      <th>petal-width</th>\n",
              "      <th>class</th>\n",
              "    </tr>\n",
              "  </thead>\n",
              "  <tbody>\n",
              "    <tr>\n",
              "      <th>8</th>\n",
              "      <td>4.4</td>\n",
              "      <td>NaN</td>\n",
              "      <td>1.4</td>\n",
              "      <td>0.2</td>\n",
              "      <td>Iris-setosa</td>\n",
              "    </tr>\n",
              "    <tr>\n",
              "      <th>44</th>\n",
              "      <td>NaN</td>\n",
              "      <td>NaN</td>\n",
              "      <td>1.9</td>\n",
              "      <td>0.4</td>\n",
              "      <td>Iris-setosa</td>\n",
              "    </tr>\n",
              "    <tr>\n",
              "      <th>73</th>\n",
              "      <td>6.1</td>\n",
              "      <td>NaN</td>\n",
              "      <td>4.7</td>\n",
              "      <td>1.2</td>\n",
              "      <td>Iris-versicolor</td>\n",
              "    </tr>\n",
              "    <tr>\n",
              "      <th>78</th>\n",
              "      <td>6.0</td>\n",
              "      <td>NaN</td>\n",
              "      <td>NaN</td>\n",
              "      <td>1.5</td>\n",
              "      <td>Iris-versicolor</td>\n",
              "    </tr>\n",
              "  </tbody>\n",
              "</table>\n",
              "</div>"
            ],
            "text/plain": [
              "    sepal-length  sepal-width  petal-length  petal-width            class\n",
              "8            4.4          NaN           1.4          0.2      Iris-setosa\n",
              "44           NaN          NaN           1.9          0.4      Iris-setosa\n",
              "73           6.1          NaN           4.7          1.2  Iris-versicolor\n",
              "78           6.0          NaN           NaN          1.5  Iris-versicolor"
            ]
          },
          "execution_count": 22,
          "metadata": {},
          "output_type": "execute_result"
        }
      ],
      "source": [
        "bool_series = pd.isnull(data[\"sepal-width\"])  \n",
        "data[bool_series] "
      ]
    },
    {
      "cell_type": "code",
      "execution_count": 23,
      "metadata": {},
      "outputs": [
        {
          "data": {
            "text/html": [
              "<div>\n",
              "<style scoped>\n",
              "    .dataframe tbody tr th:only-of-type {\n",
              "        vertical-align: middle;\n",
              "    }\n",
              "\n",
              "    .dataframe tbody tr th {\n",
              "        vertical-align: top;\n",
              "    }\n",
              "\n",
              "    .dataframe thead th {\n",
              "        text-align: right;\n",
              "    }\n",
              "</style>\n",
              "<table border=\"1\" class=\"dataframe\">\n",
              "  <thead>\n",
              "    <tr style=\"text-align: right;\">\n",
              "      <th></th>\n",
              "      <th>sepal-length</th>\n",
              "      <th>sepal-width</th>\n",
              "      <th>petal-length</th>\n",
              "      <th>petal-width</th>\n",
              "      <th>class</th>\n",
              "    </tr>\n",
              "  </thead>\n",
              "  <tbody>\n",
              "    <tr>\n",
              "      <th>49</th>\n",
              "      <td>5.0</td>\n",
              "      <td>3.3</td>\n",
              "      <td>1.4</td>\n",
              "      <td>0.2</td>\n",
              "      <td>Iris-setosa</td>\n",
              "    </tr>\n",
              "  </tbody>\n",
              "</table>\n",
              "</div>"
            ],
            "text/plain": [
              "    sepal-length  sepal-width  petal-length  petal-width        class\n",
              "49           5.0          3.3           1.4          0.2  Iris-setosa"
            ]
          },
          "execution_count": 23,
          "metadata": {},
          "output_type": "execute_result"
        }
      ],
      "source": [
        "IrisSetona = data[(data['class'] == 'Iris-setosa')]\n",
        "IrisSetona[-1:]"
      ]
    },
    {
      "cell_type": "code",
      "execution_count": 24,
      "metadata": {},
      "outputs": [
        {
          "name": "stdout",
          "output_type": "stream",
          "text": [
            "Int64Index([49], dtype='int64')\n",
            "Int64Index([99], dtype='int64')\n",
            "Int64Index([149], dtype='int64')\n"
          ]
        }
      ],
      "source": [
        "IrisSetona = data[(data['class'] == 'Iris-setosa')]\n",
        "print(IrisSetona[-1:].index)\n",
        "IrisVersicolor = data[(data['class'] == 'Iris-versicolor')]\n",
        "print(IrisVersicolor[-1:].index)\n",
        "IrisVirginica = data[(data['class'] == 'Iris-virginica')]\n",
        "print(IrisVirginica[-1:].index)"
      ]
    },
    {
      "cell_type": "markdown",
      "metadata": {},
      "source": [
        "*Los datos se encuentran ordenados respecto a la clase de flor*\n",
        "* *Los primeros 50 datos (0-49) corresponden a la clase Iris Setona*\n",
        "* *Los siguientes 50 datos (50-99) corresponden a la clase Iris Versicolor*\n",
        "* *Los ultimos 50 datos (100-150) corresponden a la clase Iris Virginica*\n"
      ]
    },
    {
      "cell_type": "markdown",
      "metadata": {},
      "source": [
        "### Imputacion de datos por separado"
      ]
    },
    {
      "cell_type": "markdown",
      "metadata": {},
      "source": [
        "Separamos los datos"
      ]
    },
    {
      "cell_type": "code",
      "execution_count": 25,
      "metadata": {},
      "outputs": [],
      "source": [
        "IrisSetona = data[:50]\n",
        "IrisVersicolor = data[50:100]\n",
        "IrisVirginica = data[100:]"
      ]
    },
    {
      "cell_type": "code",
      "execution_count": 26,
      "metadata": {},
      "outputs": [],
      "source": [
        "# Imputamos las variables numericas con la media\n",
        "IrisSetona['sepal-length'].fillna(IrisSetona['sepal-length'].mean(), inplace=True)\n",
        "IrisSetona['sepal-width'].fillna(IrisSetona['sepal-width'].mean(), inplace=True)\n",
        "IrisSetona['petal-length'].fillna(IrisSetona['petal-length'].mean(), inplace=True)\n",
        "IrisSetona['petal-width'].fillna(IrisSetona['petal-width'].mean(), inplace=True)\n",
        "\n",
        "# Imputamos la variables categoricas con la moda\n",
        "IrisSetona['class'].fillna(IrisSetona['class'].mode()[0], inplace=True)"
      ]
    },
    {
      "cell_type": "code",
      "execution_count": 27,
      "metadata": {},
      "outputs": [],
      "source": [
        "# Imputamos las variables numericas con la media\n",
        "IrisVersicolor['sepal-length'].fillna(IrisVersicolor['sepal-length'].mean(), inplace=True)\n",
        "IrisVersicolor['sepal-width'].fillna(IrisVersicolor['sepal-width'].mean(), inplace=True)\n",
        "IrisVersicolor['petal-length'].fillna(IrisVersicolor['petal-length'].mean(), inplace=True)\n",
        "IrisVersicolor['petal-width'].fillna(IrisVersicolor['petal-width'].mean(), inplace=True)\n",
        "\n",
        "# Imputamos la variables categoricas con la moda\n",
        "IrisVersicolor['class'].fillna(IrisVersicolor['class'].mode()[0], inplace=True)"
      ]
    },
    {
      "cell_type": "code",
      "execution_count": 28,
      "metadata": {},
      "outputs": [],
      "source": [
        "# Imputamos las variables numericas con la media\n",
        "IrisVirginica['sepal-length'].fillna(IrisVirginica['sepal-length'].mean(), inplace=True)\n",
        "IrisVirginica['sepal-width'].fillna(IrisVirginica['sepal-width'].mean(), inplace=True)\n",
        "IrisVirginica['petal-length'].fillna(IrisVirginica['petal-length'].mean(), inplace=True)\n",
        "IrisVirginica['petal-width'].fillna(IrisVirginica['petal-width'].mean(), inplace=True)\n",
        "\n",
        "# Imputamos la variables categoricas con la moda\n",
        "IrisVirginica['class'].fillna(IrisVirginica['class'].mode()[0], inplace=True)\n"
      ]
    },
    {
      "cell_type": "markdown",
      "metadata": {},
      "source": [
        "# Juntamos los datos"
      ]
    },
    {
      "cell_type": "code",
      "execution_count": 29,
      "metadata": {},
      "outputs": [
        {
          "data": {
            "text/html": [
              "<div>\n",
              "<style scoped>\n",
              "    .dataframe tbody tr th:only-of-type {\n",
              "        vertical-align: middle;\n",
              "    }\n",
              "\n",
              "    .dataframe tbody tr th {\n",
              "        vertical-align: top;\n",
              "    }\n",
              "\n",
              "    .dataframe thead th {\n",
              "        text-align: right;\n",
              "    }\n",
              "</style>\n",
              "<table border=\"1\" class=\"dataframe\">\n",
              "  <thead>\n",
              "    <tr style=\"text-align: right;\">\n",
              "      <th></th>\n",
              "      <th>sepal-length</th>\n",
              "      <th>sepal-width</th>\n",
              "      <th>petal-length</th>\n",
              "      <th>petal-width</th>\n",
              "      <th>class</th>\n",
              "    </tr>\n",
              "  </thead>\n",
              "  <tbody>\n",
              "    <tr>\n",
              "      <th>0</th>\n",
              "      <td>5.1</td>\n",
              "      <td>3.5</td>\n",
              "      <td>1.4</td>\n",
              "      <td>0.200000</td>\n",
              "      <td>Iris-setosa</td>\n",
              "    </tr>\n",
              "    <tr>\n",
              "      <th>1</th>\n",
              "      <td>4.9</td>\n",
              "      <td>3.0</td>\n",
              "      <td>1.4</td>\n",
              "      <td>0.200000</td>\n",
              "      <td>Iris-setosa</td>\n",
              "    </tr>\n",
              "    <tr>\n",
              "      <th>2</th>\n",
              "      <td>4.7</td>\n",
              "      <td>3.2</td>\n",
              "      <td>1.3</td>\n",
              "      <td>0.200000</td>\n",
              "      <td>Iris-setosa</td>\n",
              "    </tr>\n",
              "    <tr>\n",
              "      <th>3</th>\n",
              "      <td>4.6</td>\n",
              "      <td>3.1</td>\n",
              "      <td>1.5</td>\n",
              "      <td>0.200000</td>\n",
              "      <td>Iris-setosa</td>\n",
              "    </tr>\n",
              "    <tr>\n",
              "      <th>4</th>\n",
              "      <td>5.0</td>\n",
              "      <td>3.6</td>\n",
              "      <td>1.4</td>\n",
              "      <td>0.200000</td>\n",
              "      <td>Iris-setosa</td>\n",
              "    </tr>\n",
              "    <tr>\n",
              "      <th>...</th>\n",
              "      <td>...</td>\n",
              "      <td>...</td>\n",
              "      <td>...</td>\n",
              "      <td>...</td>\n",
              "      <td>...</td>\n",
              "    </tr>\n",
              "    <tr>\n",
              "      <th>145</th>\n",
              "      <td>6.7</td>\n",
              "      <td>3.0</td>\n",
              "      <td>5.2</td>\n",
              "      <td>2.300000</td>\n",
              "      <td>Iris-virginica</td>\n",
              "    </tr>\n",
              "    <tr>\n",
              "      <th>146</th>\n",
              "      <td>6.3</td>\n",
              "      <td>2.5</td>\n",
              "      <td>5.0</td>\n",
              "      <td>1.900000</td>\n",
              "      <td>Iris-virginica</td>\n",
              "    </tr>\n",
              "    <tr>\n",
              "      <th>147</th>\n",
              "      <td>6.5</td>\n",
              "      <td>3.0</td>\n",
              "      <td>5.2</td>\n",
              "      <td>2.000000</td>\n",
              "      <td>Iris-virginica</td>\n",
              "    </tr>\n",
              "    <tr>\n",
              "      <th>148</th>\n",
              "      <td>6.2</td>\n",
              "      <td>3.4</td>\n",
              "      <td>5.4</td>\n",
              "      <td>2.300000</td>\n",
              "      <td>Iris-virginica</td>\n",
              "    </tr>\n",
              "    <tr>\n",
              "      <th>149</th>\n",
              "      <td>5.9</td>\n",
              "      <td>3.0</td>\n",
              "      <td>5.1</td>\n",
              "      <td>2.031915</td>\n",
              "      <td>Iris-virginica</td>\n",
              "    </tr>\n",
              "  </tbody>\n",
              "</table>\n",
              "<p>150 rows × 5 columns</p>\n",
              "</div>"
            ],
            "text/plain": [
              "     sepal-length  sepal-width  petal-length  petal-width           class\n",
              "0             5.1          3.5           1.4     0.200000     Iris-setosa\n",
              "1             4.9          3.0           1.4     0.200000     Iris-setosa\n",
              "2             4.7          3.2           1.3     0.200000     Iris-setosa\n",
              "3             4.6          3.1           1.5     0.200000     Iris-setosa\n",
              "4             5.0          3.6           1.4     0.200000     Iris-setosa\n",
              "..            ...          ...           ...          ...             ...\n",
              "145           6.7          3.0           5.2     2.300000  Iris-virginica\n",
              "146           6.3          2.5           5.0     1.900000  Iris-virginica\n",
              "147           6.5          3.0           5.2     2.000000  Iris-virginica\n",
              "148           6.2          3.4           5.4     2.300000  Iris-virginica\n",
              "149           5.9          3.0           5.1     2.031915  Iris-virginica\n",
              "\n",
              "[150 rows x 5 columns]"
            ]
          },
          "execution_count": 29,
          "metadata": {},
          "output_type": "execute_result"
        }
      ],
      "source": [
        "data = pd.concat([IrisSetona,IrisVersicolor,IrisVirginica], axis=0)\n",
        "data"
      ]
    },
    {
      "cell_type": "code",
      "execution_count": 30,
      "metadata": {},
      "outputs": [
        {
          "data": {
            "text/html": [
              "<div>\n",
              "<style scoped>\n",
              "    .dataframe tbody tr th:only-of-type {\n",
              "        vertical-align: middle;\n",
              "    }\n",
              "\n",
              "    .dataframe tbody tr th {\n",
              "        vertical-align: top;\n",
              "    }\n",
              "\n",
              "    .dataframe thead th {\n",
              "        text-align: right;\n",
              "    }\n",
              "</style>\n",
              "<table border=\"1\" class=\"dataframe\">\n",
              "  <thead>\n",
              "    <tr style=\"text-align: right;\">\n",
              "      <th></th>\n",
              "      <th>sepal-length</th>\n",
              "      <th>sepal-width</th>\n",
              "      <th>petal-length</th>\n",
              "      <th>petal-width</th>\n",
              "      <th>class</th>\n",
              "    </tr>\n",
              "  </thead>\n",
              "  <tbody>\n",
              "    <tr>\n",
              "      <th>30</th>\n",
              "      <td>4.8</td>\n",
              "      <td>3.1</td>\n",
              "      <td>1.6</td>\n",
              "      <td>0.2</td>\n",
              "      <td>Iris-setosa</td>\n",
              "    </tr>\n",
              "    <tr>\n",
              "      <th>110</th>\n",
              "      <td>6.5</td>\n",
              "      <td>3.2</td>\n",
              "      <td>5.1</td>\n",
              "      <td>2.0</td>\n",
              "      <td>Iris-virginica</td>\n",
              "    </tr>\n",
              "  </tbody>\n",
              "</table>\n",
              "</div>"
            ],
            "text/plain": [
              "     sepal-length  sepal-width  petal-length  petal-width           class\n",
              "30            4.8          3.1           1.6          0.2     Iris-setosa\n",
              "110           6.5          3.2           5.1          2.0  Iris-virginica"
            ]
          },
          "execution_count": 30,
          "metadata": {},
          "output_type": "execute_result"
        }
      ],
      "source": [
        "data.iloc[[30,110]]"
      ]
    },
    {
      "cell_type": "markdown",
      "metadata": {},
      "source": [
        "separamos  los datos"
      ]
    },
    {
      "cell_type": "code",
      "execution_count": 31,
      "metadata": {},
      "outputs": [
        {
          "data": {
            "text/html": [
              "<div>\n",
              "<style scoped>\n",
              "    .dataframe tbody tr th:only-of-type {\n",
              "        vertical-align: middle;\n",
              "    }\n",
              "\n",
              "    .dataframe tbody tr th {\n",
              "        vertical-align: top;\n",
              "    }\n",
              "\n",
              "    .dataframe thead th {\n",
              "        text-align: right;\n",
              "    }\n",
              "</style>\n",
              "<table border=\"1\" class=\"dataframe\">\n",
              "  <thead>\n",
              "    <tr style=\"text-align: right;\">\n",
              "      <th></th>\n",
              "      <th>sepal-length</th>\n",
              "      <th>sepal-width</th>\n",
              "      <th>petal-length</th>\n",
              "      <th>petal-width</th>\n",
              "    </tr>\n",
              "  </thead>\n",
              "  <tbody>\n",
              "    <tr>\n",
              "      <th>count</th>\n",
              "      <td>50.000000</td>\n",
              "      <td>50.000000</td>\n",
              "      <td>50.000000</td>\n",
              "      <td>50.00000</td>\n",
              "    </tr>\n",
              "    <tr>\n",
              "      <th>mean</th>\n",
              "      <td>5.004167</td>\n",
              "      <td>3.420833</td>\n",
              "      <td>1.463265</td>\n",
              "      <td>0.24400</td>\n",
              "    </tr>\n",
              "    <tr>\n",
              "      <th>std</th>\n",
              "      <td>0.352228</td>\n",
              "      <td>0.369754</td>\n",
              "      <td>0.173433</td>\n",
              "      <td>0.10721</td>\n",
              "    </tr>\n",
              "    <tr>\n",
              "      <th>min</th>\n",
              "      <td>4.300000</td>\n",
              "      <td>2.300000</td>\n",
              "      <td>1.000000</td>\n",
              "      <td>0.10000</td>\n",
              "    </tr>\n",
              "    <tr>\n",
              "      <th>25%</th>\n",
              "      <td>4.800000</td>\n",
              "      <td>3.200000</td>\n",
              "      <td>1.400000</td>\n",
              "      <td>0.20000</td>\n",
              "    </tr>\n",
              "    <tr>\n",
              "      <th>50%</th>\n",
              "      <td>5.000000</td>\n",
              "      <td>3.400000</td>\n",
              "      <td>1.500000</td>\n",
              "      <td>0.20000</td>\n",
              "    </tr>\n",
              "    <tr>\n",
              "      <th>75%</th>\n",
              "      <td>5.200000</td>\n",
              "      <td>3.600000</td>\n",
              "      <td>1.575000</td>\n",
              "      <td>0.30000</td>\n",
              "    </tr>\n",
              "    <tr>\n",
              "      <th>max</th>\n",
              "      <td>5.800000</td>\n",
              "      <td>4.400000</td>\n",
              "      <td>1.900000</td>\n",
              "      <td>0.60000</td>\n",
              "    </tr>\n",
              "  </tbody>\n",
              "</table>\n",
              "</div>"
            ],
            "text/plain": [
              "       sepal-length  sepal-width  petal-length  petal-width\n",
              "count     50.000000    50.000000     50.000000     50.00000\n",
              "mean       5.004167     3.420833      1.463265      0.24400\n",
              "std        0.352228     0.369754      0.173433      0.10721\n",
              "min        4.300000     2.300000      1.000000      0.10000\n",
              "25%        4.800000     3.200000      1.400000      0.20000\n",
              "50%        5.000000     3.400000      1.500000      0.20000\n",
              "75%        5.200000     3.600000      1.575000      0.30000\n",
              "max        5.800000     4.400000      1.900000      0.60000"
            ]
          },
          "execution_count": 31,
          "metadata": {},
          "output_type": "execute_result"
        }
      ],
      "source": [
        "IrisSetona = data[(data['class'] == 'Iris-setosa')]\n",
        "IrisSetona.describe()"
      ]
    },
    {
      "cell_type": "code",
      "execution_count": 32,
      "metadata": {},
      "outputs": [
        {
          "data": {
            "text/html": [
              "<div>\n",
              "<style scoped>\n",
              "    .dataframe tbody tr th:only-of-type {\n",
              "        vertical-align: middle;\n",
              "    }\n",
              "\n",
              "    .dataframe tbody tr th {\n",
              "        vertical-align: top;\n",
              "    }\n",
              "\n",
              "    .dataframe thead th {\n",
              "        text-align: right;\n",
              "    }\n",
              "</style>\n",
              "<table border=\"1\" class=\"dataframe\">\n",
              "  <thead>\n",
              "    <tr style=\"text-align: right;\">\n",
              "      <th></th>\n",
              "      <th>sepal-length</th>\n",
              "      <th>sepal-width</th>\n",
              "      <th>petal-length</th>\n",
              "      <th>petal-width</th>\n",
              "    </tr>\n",
              "  </thead>\n",
              "  <tbody>\n",
              "    <tr>\n",
              "      <th>count</th>\n",
              "      <td>50.000000</td>\n",
              "      <td>50.000000</td>\n",
              "      <td>50.000000</td>\n",
              "      <td>50.000000</td>\n",
              "    </tr>\n",
              "    <tr>\n",
              "      <th>mean</th>\n",
              "      <td>5.936000</td>\n",
              "      <td>2.766667</td>\n",
              "      <td>4.256250</td>\n",
              "      <td>1.326000</td>\n",
              "    </tr>\n",
              "    <tr>\n",
              "      <th>std</th>\n",
              "      <td>0.516171</td>\n",
              "      <td>0.313202</td>\n",
              "      <td>0.468565</td>\n",
              "      <td>0.197753</td>\n",
              "    </tr>\n",
              "    <tr>\n",
              "      <th>min</th>\n",
              "      <td>4.900000</td>\n",
              "      <td>2.000000</td>\n",
              "      <td>3.000000</td>\n",
              "      <td>1.000000</td>\n",
              "    </tr>\n",
              "    <tr>\n",
              "      <th>25%</th>\n",
              "      <td>5.600000</td>\n",
              "      <td>2.525000</td>\n",
              "      <td>4.000000</td>\n",
              "      <td>1.200000</td>\n",
              "    </tr>\n",
              "    <tr>\n",
              "      <th>50%</th>\n",
              "      <td>5.900000</td>\n",
              "      <td>2.800000</td>\n",
              "      <td>4.300000</td>\n",
              "      <td>1.300000</td>\n",
              "    </tr>\n",
              "    <tr>\n",
              "      <th>75%</th>\n",
              "      <td>6.300000</td>\n",
              "      <td>3.000000</td>\n",
              "      <td>4.600000</td>\n",
              "      <td>1.500000</td>\n",
              "    </tr>\n",
              "    <tr>\n",
              "      <th>max</th>\n",
              "      <td>7.000000</td>\n",
              "      <td>3.400000</td>\n",
              "      <td>5.100000</td>\n",
              "      <td>1.800000</td>\n",
              "    </tr>\n",
              "  </tbody>\n",
              "</table>\n",
              "</div>"
            ],
            "text/plain": [
              "       sepal-length  sepal-width  petal-length  petal-width\n",
              "count     50.000000    50.000000     50.000000    50.000000\n",
              "mean       5.936000     2.766667      4.256250     1.326000\n",
              "std        0.516171     0.313202      0.468565     0.197753\n",
              "min        4.900000     2.000000      3.000000     1.000000\n",
              "25%        5.600000     2.525000      4.000000     1.200000\n",
              "50%        5.900000     2.800000      4.300000     1.300000\n",
              "75%        6.300000     3.000000      4.600000     1.500000\n",
              "max        7.000000     3.400000      5.100000     1.800000"
            ]
          },
          "execution_count": 32,
          "metadata": {},
          "output_type": "execute_result"
        }
      ],
      "source": [
        "IrisVersicolor = data[(data['class'] == 'Iris-versicolor')]\n",
        "IrisVersicolor.describe()"
      ]
    },
    {
      "cell_type": "code",
      "execution_count": 33,
      "metadata": {},
      "outputs": [
        {
          "data": {
            "text/html": [
              "<div>\n",
              "<style scoped>\n",
              "    .dataframe tbody tr th:only-of-type {\n",
              "        vertical-align: middle;\n",
              "    }\n",
              "\n",
              "    .dataframe tbody tr th {\n",
              "        vertical-align: top;\n",
              "    }\n",
              "\n",
              "    .dataframe thead th {\n",
              "        text-align: right;\n",
              "    }\n",
              "</style>\n",
              "<table border=\"1\" class=\"dataframe\">\n",
              "  <thead>\n",
              "    <tr style=\"text-align: right;\">\n",
              "      <th></th>\n",
              "      <th>sepal-length</th>\n",
              "      <th>sepal-width</th>\n",
              "      <th>petal-length</th>\n",
              "      <th>petal-width</th>\n",
              "    </tr>\n",
              "  </thead>\n",
              "  <tbody>\n",
              "    <tr>\n",
              "      <th>count</th>\n",
              "      <td>50.000000</td>\n",
              "      <td>50.000000</td>\n",
              "      <td>50.000000</td>\n",
              "      <td>50.000000</td>\n",
              "    </tr>\n",
              "    <tr>\n",
              "      <th>mean</th>\n",
              "      <td>6.579167</td>\n",
              "      <td>2.974000</td>\n",
              "      <td>5.552000</td>\n",
              "      <td>2.031915</td>\n",
              "    </tr>\n",
              "    <tr>\n",
              "      <th>std</th>\n",
              "      <td>0.629207</td>\n",
              "      <td>0.322497</td>\n",
              "      <td>0.551895</td>\n",
              "      <td>0.269623</td>\n",
              "    </tr>\n",
              "    <tr>\n",
              "      <th>min</th>\n",
              "      <td>4.900000</td>\n",
              "      <td>2.200000</td>\n",
              "      <td>4.500000</td>\n",
              "      <td>1.400000</td>\n",
              "    </tr>\n",
              "    <tr>\n",
              "      <th>25%</th>\n",
              "      <td>6.225000</td>\n",
              "      <td>2.800000</td>\n",
              "      <td>5.100000</td>\n",
              "      <td>1.800000</td>\n",
              "    </tr>\n",
              "    <tr>\n",
              "      <th>50%</th>\n",
              "      <td>6.500000</td>\n",
              "      <td>3.000000</td>\n",
              "      <td>5.550000</td>\n",
              "      <td>2.015957</td>\n",
              "    </tr>\n",
              "    <tr>\n",
              "      <th>75%</th>\n",
              "      <td>6.900000</td>\n",
              "      <td>3.175000</td>\n",
              "      <td>5.875000</td>\n",
              "      <td>2.300000</td>\n",
              "    </tr>\n",
              "    <tr>\n",
              "      <th>max</th>\n",
              "      <td>7.900000</td>\n",
              "      <td>3.800000</td>\n",
              "      <td>6.900000</td>\n",
              "      <td>2.500000</td>\n",
              "    </tr>\n",
              "  </tbody>\n",
              "</table>\n",
              "</div>"
            ],
            "text/plain": [
              "       sepal-length  sepal-width  petal-length  petal-width\n",
              "count     50.000000    50.000000     50.000000    50.000000\n",
              "mean       6.579167     2.974000      5.552000     2.031915\n",
              "std        0.629207     0.322497      0.551895     0.269623\n",
              "min        4.900000     2.200000      4.500000     1.400000\n",
              "25%        6.225000     2.800000      5.100000     1.800000\n",
              "50%        6.500000     3.000000      5.550000     2.015957\n",
              "75%        6.900000     3.175000      5.875000     2.300000\n",
              "max        7.900000     3.800000      6.900000     2.500000"
            ]
          },
          "execution_count": 33,
          "metadata": {},
          "output_type": "execute_result"
        }
      ],
      "source": [
        "IrisVirginica = data[(data['class'] == 'Iris-virginica')]\n",
        "IrisVirginica.describe()"
      ]
    },
    {
      "cell_type": "markdown",
      "metadata": {},
      "source": [
        "## Cuadro Comparativo \n",
        "De la descripcion de los datos por cada clase de Flor "
      ]
    },
    {
      "cell_type": "code",
      "execution_count": null,
      "metadata": {},
      "outputs": [],
      "source": []
    },
    {
      "cell_type": "code",
      "execution_count": 34,
      "metadata": {},
      "outputs": [
        {
          "data": {
            "text/plain": [
              "sepal-length    5.936000\n",
              "sepal-width     2.766667\n",
              "petal-length    4.256250\n",
              "petal-width     1.326000\n",
              "dtype: float64"
            ]
          },
          "execution_count": 34,
          "metadata": {},
          "output_type": "execute_result"
        }
      ],
      "source": [
        "IrisVersicolor.mean()"
      ]
    },
    {
      "cell_type": "code",
      "execution_count": 35,
      "metadata": {},
      "outputs": [
        {
          "data": {
            "text/plain": [
              "sepal-length    0\n",
              "sepal-width     0\n",
              "petal-length    0\n",
              "petal-width     0\n",
              "class           0\n",
              "dtype: int64"
            ]
          },
          "execution_count": 35,
          "metadata": {},
          "output_type": "execute_result"
        }
      ],
      "source": [
        "data.isnull().sum()"
      ]
    },
    {
      "cell_type": "code",
      "execution_count": 36,
      "metadata": {},
      "outputs": [
        {
          "name": "stdout",
          "output_type": "stream",
          "text": [
            "<class 'pandas.core.frame.DataFrame'>\n",
            "RangeIndex: 150 entries, 0 to 149\n",
            "Data columns (total 5 columns):\n",
            " #   Column        Non-Null Count  Dtype  \n",
            "---  ------        --------------  -----  \n",
            " 0   sepal-length  150 non-null    float64\n",
            " 1   sepal-width   150 non-null    float64\n",
            " 2   petal-length  150 non-null    float64\n",
            " 3   petal-width   150 non-null    float64\n",
            " 4   class         150 non-null    object \n",
            "dtypes: float64(4), object(1)\n",
            "memory usage: 6.0+ KB\n"
          ]
        }
      ],
      "source": [
        "data.info()"
      ]
    },
    {
      "cell_type": "code",
      "execution_count": 37,
      "metadata": {},
      "outputs": [
        {
          "name": "stdout",
          "output_type": "stream",
          "text": [
            "<class 'pandas.core.frame.DataFrame'>\n",
            "RangeIndex: 150 entries, 0 to 149\n",
            "Data columns (total 5 columns):\n",
            " #   Column        Non-Null Count  Dtype   \n",
            "---  ------        --------------  -----   \n",
            " 0   sepal-length  150 non-null    float64 \n",
            " 1   sepal-width   150 non-null    float64 \n",
            " 2   petal-length  150 non-null    float64 \n",
            " 3   petal-width   150 non-null    float64 \n",
            " 4   class         150 non-null    category\n",
            "dtypes: category(1), float64(4)\n",
            "memory usage: 5.1 KB\n"
          ]
        }
      ],
      "source": [
        "data[\"class\"]= data[\"class\"].astype('category')\n",
        "data.info()"
      ]
    },
    {
      "cell_type": "markdown",
      "metadata": {
        "id": "hG3AChfaq-j_"
      },
      "source": [
        "# <font color=blue>**Parte 1**</font>\n",
        "\n",
        "La columna <font color=red>class</font> (llamada tambien etiquetas) son categorias no numéricas.\n",
        "\n",
        "Sabiendo que el <font color=red>modelo de regresión lineal</font> trabaja sólo con valores numéricos, haga la conversión correspondiente."
      ]
    },
    {
      "cell_type": "markdown",
      "metadata": {},
      "source": [
        "* Solo regresion lineal simple\n",
        "* Usar una estrategia la que queramos"
      ]
    },
    {
      "cell_type": "markdown",
      "metadata": {},
      "source": [
        "Cambiamos las categorias de las clases de flores de forma manual\n",
        "debido a que emplenado la codificacion One-Hot no podriamos ajustarlo a nuestro modelo de regresion lineal simple "
      ]
    },
    {
      "cell_type": "code",
      "execution_count": 38,
      "metadata": {
        "id": "sVqNn3hNsKWl"
      },
      "outputs": [
        {
          "data": {
            "text/html": [
              "<div>\n",
              "<style scoped>\n",
              "    .dataframe tbody tr th:only-of-type {\n",
              "        vertical-align: middle;\n",
              "    }\n",
              "\n",
              "    .dataframe tbody tr th {\n",
              "        vertical-align: top;\n",
              "    }\n",
              "\n",
              "    .dataframe thead th {\n",
              "        text-align: right;\n",
              "    }\n",
              "</style>\n",
              "<table border=\"1\" class=\"dataframe\">\n",
              "  <thead>\n",
              "    <tr style=\"text-align: right;\">\n",
              "      <th></th>\n",
              "      <th>sepal-length</th>\n",
              "      <th>sepal-width</th>\n",
              "      <th>petal-length</th>\n",
              "      <th>petal-width</th>\n",
              "      <th>class</th>\n",
              "    </tr>\n",
              "  </thead>\n",
              "  <tbody>\n",
              "    <tr>\n",
              "      <th>0</th>\n",
              "      <td>5.1</td>\n",
              "      <td>3.5</td>\n",
              "      <td>1.4</td>\n",
              "      <td>0.200000</td>\n",
              "      <td>1</td>\n",
              "    </tr>\n",
              "    <tr>\n",
              "      <th>1</th>\n",
              "      <td>4.9</td>\n",
              "      <td>3.0</td>\n",
              "      <td>1.4</td>\n",
              "      <td>0.200000</td>\n",
              "      <td>1</td>\n",
              "    </tr>\n",
              "    <tr>\n",
              "      <th>2</th>\n",
              "      <td>4.7</td>\n",
              "      <td>3.2</td>\n",
              "      <td>1.3</td>\n",
              "      <td>0.200000</td>\n",
              "      <td>1</td>\n",
              "    </tr>\n",
              "    <tr>\n",
              "      <th>3</th>\n",
              "      <td>4.6</td>\n",
              "      <td>3.1</td>\n",
              "      <td>1.5</td>\n",
              "      <td>0.200000</td>\n",
              "      <td>1</td>\n",
              "    </tr>\n",
              "    <tr>\n",
              "      <th>4</th>\n",
              "      <td>5.0</td>\n",
              "      <td>3.6</td>\n",
              "      <td>1.4</td>\n",
              "      <td>0.200000</td>\n",
              "      <td>1</td>\n",
              "    </tr>\n",
              "    <tr>\n",
              "      <th>...</th>\n",
              "      <td>...</td>\n",
              "      <td>...</td>\n",
              "      <td>...</td>\n",
              "      <td>...</td>\n",
              "      <td>...</td>\n",
              "    </tr>\n",
              "    <tr>\n",
              "      <th>145</th>\n",
              "      <td>6.7</td>\n",
              "      <td>3.0</td>\n",
              "      <td>5.2</td>\n",
              "      <td>2.300000</td>\n",
              "      <td>3</td>\n",
              "    </tr>\n",
              "    <tr>\n",
              "      <th>146</th>\n",
              "      <td>6.3</td>\n",
              "      <td>2.5</td>\n",
              "      <td>5.0</td>\n",
              "      <td>1.900000</td>\n",
              "      <td>3</td>\n",
              "    </tr>\n",
              "    <tr>\n",
              "      <th>147</th>\n",
              "      <td>6.5</td>\n",
              "      <td>3.0</td>\n",
              "      <td>5.2</td>\n",
              "      <td>2.000000</td>\n",
              "      <td>3</td>\n",
              "    </tr>\n",
              "    <tr>\n",
              "      <th>148</th>\n",
              "      <td>6.2</td>\n",
              "      <td>3.4</td>\n",
              "      <td>5.4</td>\n",
              "      <td>2.300000</td>\n",
              "      <td>3</td>\n",
              "    </tr>\n",
              "    <tr>\n",
              "      <th>149</th>\n",
              "      <td>5.9</td>\n",
              "      <td>3.0</td>\n",
              "      <td>5.1</td>\n",
              "      <td>2.031915</td>\n",
              "      <td>3</td>\n",
              "    </tr>\n",
              "  </tbody>\n",
              "</table>\n",
              "<p>150 rows × 5 columns</p>\n",
              "</div>"
            ],
            "text/plain": [
              "     sepal-length  sepal-width  petal-length  petal-width class\n",
              "0             5.1          3.5           1.4     0.200000     1\n",
              "1             4.9          3.0           1.4     0.200000     1\n",
              "2             4.7          3.2           1.3     0.200000     1\n",
              "3             4.6          3.1           1.5     0.200000     1\n",
              "4             5.0          3.6           1.4     0.200000     1\n",
              "..            ...          ...           ...          ...   ...\n",
              "145           6.7          3.0           5.2     2.300000     3\n",
              "146           6.3          2.5           5.0     1.900000     3\n",
              "147           6.5          3.0           5.2     2.000000     3\n",
              "148           6.2          3.4           5.4     2.300000     3\n",
              "149           5.9          3.0           5.1     2.031915     3\n",
              "\n",
              "[150 rows x 5 columns]"
            ]
          },
          "execution_count": 38,
          "metadata": {},
          "output_type": "execute_result"
        }
      ],
      "source": [
        "# ....\n",
        "new_class = {'Iris-setosa' : 1,\n",
        "    'Iris-versicolor' : 2,\n",
        "    'Iris-virginica' : 3\n",
        "}\n",
        "data['class'].replace(new_class, inplace = True)\n",
        "data"
      ]
    },
    {
      "cell_type": "markdown",
      "metadata": {
        "id": "ieumNVLisQPR"
      },
      "source": [
        "# <font color=blue>**Parte 2**</font>\n",
        "\n",
        "1.   Tome los valores de: \n",
        "\n",
        "  X -> sepal-width\n",
        "\n",
        "  y -> class\n",
        "2.   Haga la partición de datos en: entrenamiento y test con valores por defecto.\n",
        "\n",
        "1.   Obtenga el modelo de aprendizaje correspondiente.\n",
        "\n",
        "2.   Grafique los datos originales y la recta (modelo) obtenido.\n",
        "\n",
        "4.   Calcule el error cuadratico medio y explique sus resultados.\n",
        "\n",
        "\n",
        "\n",
        "\n"
      ]
    },
    {
      "cell_type": "code",
      "execution_count": 39,
      "metadata": {
        "id": "eSuaSkhOsPNc"
      },
      "outputs": [],
      "source": [
        "# librerias necesarias\n",
        "from sklearn import linear_model\n",
        "from sklearn.metrics import mean_squared_error\n",
        "from sklearn.model_selection import train_test_split"
      ]
    },
    {
      "cell_type": "code",
      "execution_count": 40,
      "metadata": {
        "id": "ZHiXv5CovgD7"
      },
      "outputs": [],
      "source": [
        "X = data[['sepal-width']]\n",
        "y = data['class']"
      ]
    },
    {
      "cell_type": "code",
      "execution_count": 41,
      "metadata": {},
      "outputs": [],
      "source": [
        "# separa los datos para entrenamiento y para prueba de forma aleatorio al azar\n",
        "# tamaño de prueba es el 20% de los datos\n",
        "X_train, X_test, y_train, y_test = train_test_split(X, y) #20%\n"
      ]
    },
    {
      "cell_type": "code",
      "execution_count": 42,
      "metadata": {},
      "outputs": [
        {
          "data": {
            "text/plain": [
              "LinearRegression()"
            ]
          },
          "execution_count": 42,
          "metadata": {},
          "output_type": "execute_result"
        }
      ],
      "source": [
        "linear_regression = linear_model.LinearRegression()\n",
        "linear_regression.fit(X_train, y_train) "
      ]
    },
    {
      "cell_type": "code",
      "execution_count": 43,
      "metadata": {},
      "outputs": [
        {
          "name": "stdout",
          "output_type": "stream",
          "text": [
            "0.5442911865275397\n",
            "0.5648789520214074\n"
          ]
        }
      ],
      "source": [
        "# prediccion con los datos de entrenamiento\n",
        "y_train_predicted = linear_regression.predict(X_train) \n",
        "# prediccion con los datos de prueba\n",
        "y_test_predicted = linear_regression.predict(X_test)   \n",
        "\n",
        "# calidad obtenida en el conjunto de datos de entrenamiento\n",
        "train_MSD = mean_squared_error(y_train, y_train_predicted)\n",
        "# error cuadratico medio\n",
        "# calidad obtenida en el conjunto de datos de prueba\n",
        "test_MSD = mean_squared_error(y_test, y_test_predicted)\n",
        "\n",
        "print(train_MSD)\n",
        "print(test_MSD)"
      ]
    },
    {
      "cell_type": "code",
      "execution_count": 44,
      "metadata": {},
      "outputs": [
        {
          "data": {
            "image/png": "[encoded data removed]",
            "text/plain": [
              "<Figure size 1500x400 with 2 Axes>"
            ]
          },
          "metadata": {},
          "output_type": "display_data"
        }
      ],
      "source": [
        "# graficas de datos del entrenamiento y prueba\n",
        "fig, axs = plt.subplots(1,2, figsize=(15,4)) \n",
        "axs[0].scatter(X_train, y_train,  color='orange')\n",
        "axs[0].plot(X_train, y_train_predicted, color='black')\n",
        "axs[0].set_title('Training set, MSD:{:.0f}'.format(train_MSD))\n",
        "\n",
        "axs[1].scatter(X_test, y_test,  color='gray')\n",
        "axs[1].plot(X_test, y_test_predicted, color='black')\n",
        "axs[1].set_title('Testing set, MSD:{:.0f}'.format(test_MSD))\n",
        "\n",
        "plt.show()"
      ]
    },
    {
      "cell_type": "markdown",
      "metadata": {
        "id": "ZFq96vxDvmCM"
      },
      "source": [
        "# <font color=blue>**Parte 3**</font>\n",
        "\n",
        "\n",
        "\n",
        "1.   Tome los valores de:\n",
        "\n",
        "  X -> petal-length\n",
        "\n",
        "  y -> class\n",
        "2.   Haga la partición de datos en:\n",
        "\n",
        "  Datos de entrenamiento 80% y\n",
        "\n",
        "  Datos de prueba 20%.\n",
        "\n",
        "1.   Obtenga el modelo de aprendizaje correspondiente.\n",
        "2.   Grafique los datos originales y la recta (modelo) obtenido.\n",
        "\n",
        "1.   Calcule el error cuadratico medio y explique sus resultados.\n",
        "\n",
        "\n",
        "\n",
        "\n",
        "\n"
      ]
    },
    {
      "cell_type": "code",
      "execution_count": 45,
      "metadata": {
        "id": "ZHiXv5CovgD7"
      },
      "outputs": [],
      "source": [
        "X = data[['petal-length']]\n",
        "y = data['class']"
      ]
    },
    {
      "cell_type": "code",
      "execution_count": 46,
      "metadata": {},
      "outputs": [],
      "source": [
        "# separa los datos para entrenamiento y para prueba de forma aleatorio al azar\n",
        "# tamaño de prueba es el 20% de los datos\n",
        "X_train, X_test, y_train, y_test = train_test_split(X, y) #20%\n"
      ]
    },
    {
      "cell_type": "code",
      "execution_count": 47,
      "metadata": {},
      "outputs": [
        {
          "data": {
            "text/plain": [
              "LinearRegression()"
            ]
          },
          "execution_count": 47,
          "metadata": {},
          "output_type": "execute_result"
        }
      ],
      "source": [
        "linear_regression = linear_model.LinearRegression()\n",
        "linear_regression.fit(X_train, y_train) "
      ]
    },
    {
      "cell_type": "code",
      "execution_count": 48,
      "metadata": {},
      "outputs": [
        {
          "name": "stdout",
          "output_type": "stream",
          "text": [
            "0.0673956657809551\n",
            "0.06215904096341442\n"
          ]
        }
      ],
      "source": [
        "# prediccion con los datos de entrenamiento\n",
        "y_train_predicted = linear_regression.predict(X_train) \n",
        "# prediccion con los datos de prueba\n",
        "y_test_predicted = linear_regression.predict(X_test)   \n",
        "\n",
        "# calidad obtenida en el conjunto de datos de entrenamiento\n",
        "train_MSD = mean_squared_error(y_train, y_train_predicted)\n",
        "# error cuadratico medio\n",
        "# calidad obtenida en el conjunto de datos de prueba\n",
        "test_MSD = mean_squared_error(y_test, y_test_predicted)\n",
        "\n",
        "print(train_MSD)\n",
        "print(test_MSD)"
      ]
    },
    {
      "cell_type": "code",
      "execution_count": 49,
      "metadata": {},
      "outputs": [
        {
          "data": {
            "image/png": "[encoded data removed]",
            "text/plain": [
              "<Figure size 1500x400 with 2 Axes>"
            ]
          },
          "metadata": {},
          "output_type": "display_data"
        }
      ],
      "source": [
        "# graficas de datos del entrenamiento y prueba\n",
        "fig, axs = plt.subplots(1,2, figsize=(15,4)) \n",
        "axs[0].scatter(X_train, y_train,  color='orange')\n",
        "axs[0].plot(X_train, y_train_predicted, color='black')\n",
        "axs[0].set_title('Training set, MSD:{:.0f}'.format(train_MSD))\n",
        "\n",
        "axs[1].scatter(X_test, y_test,  color='gray')\n",
        "axs[1].plot(X_test, y_test_predicted, color='black')\n",
        "axs[1].set_title('Testing set, MSD:{:.0f}'.format(test_MSD))\n",
        "\n",
        "plt.show()"
      ]
    },
    {
      "cell_type": "markdown",
      "metadata": {
        "id": "jNy7E30TxoHf"
      },
      "source": [
        "# <font color=blue>**Parte 4**</font>\n",
        "\n",
        "Observando los resultados de la <font color=blue>Parte 2</font> y <font color=blue>Parte 3</font>, qué puede concluir?"
      ]
    },
    {
      "cell_type": "code",
      "execution_count": 50,
      "metadata": {
        "id": "t61-VXUSiKd3"
      },
      "outputs": [],
      "source": [
        "# escriba i/o explique sus conclusiones en día de la sustentación/defensa del desafío\n",
        "# ....\n"
      ]
    },
    {
      "cell_type": "markdown",
      "metadata": {},
      "source": [
        "# <font color=blue> Bibliografia </font>\n"
      ]
    },
    {
      "cell_type": "markdown",
      "metadata": {},
      "source": []
    }
  ],
  "metadata": {
    "colab": {
      "provenance": []
    },
    "kernelspec": {
      "display_name": "Python 3.9.13 ('base')",
      "language": "python",
      "name": "python3"
    },
    "language_info": {
      "codemirror_mode": {
        "name": "ipython",
        "version": 3
      },
      "file_extension": ".py",
      "mimetype": "text/x-python",
      "name": "python",
      "nbconvert_exporter": "python",
      "pygments_lexer": "ipython3",
      "version": "3.9.13"
    },
    "vscode": {
      "interpreter": {
        "hash": "dc07d24e2f18896857f0b2a651fe84ba40ce7b297e58d8804a308c8039f752a6"
      }
    }
  },
  "nbformat": 4,
  "nbformat_minor": 0
}
