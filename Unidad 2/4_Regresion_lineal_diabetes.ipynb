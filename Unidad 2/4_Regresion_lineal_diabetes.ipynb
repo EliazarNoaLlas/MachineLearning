{
  "cells": [
    {
      "cell_type": "markdown",
      "metadata": {
        "id": "Xg4sCp9gPTzz"
      },
      "source": [
        "# <font color=blue>Modelo de Regresión Lineal</font>\n",
        "\n",
        "Ejemplo de éste modelo, aplicado a un conjunto de datos de diabetes proporcionado por sklearn."
      ]
    },
    {
      "cell_type": "markdown",
      "metadata": {
        "id": "jVlp-EjCOQ7C"
      },
      "source": [
        "Importamos la libreria de sklearn.\n",
        "\n",
        "modelo lineal --> <font color=red>linear_model</font>\n",
        "\n",
        "error cuadratico medio --> <font color=red>mean_squared_error</font>  (una metrica para observar el error)\n",
        "\n",
        "dividimos nuestro conjunto de datos en: un grupo (parte) para entrenamiento y otro mas pequeño para prueba --> <font color=red>train_test_split</font>\n",
        "\n"
      ]
    },
    {
      "cell_type": "markdown",
      "metadata": {},
      "source": [
        "Utilizar las librerias basicas\n"
      ]
    },
    {
      "cell_type": "code",
      "execution_count": 2,
      "metadata": {
        "id": "Qayk_M5Ac_Tn"
      },
      "outputs": [],
      "source": [
        "import matplotlib.pyplot as plt\n",
        "import numpy as np\n",
        "\n",
        "from sklearn import datasets, linear_model\n",
        "from sklearn.metrics import mean_squared_error\n",
        "from sklearn.model_selection import train_test_split\n",
        "\n",
        "diabetes = datasets.load_diabetes()"
      ]
    },
    {
      "cell_type": "code",
      "execution_count": 3,
      "metadata": {
        "colab": {
          "base_uri": "https://localhost:8080/"
        },
        "id": "Ysg4XW_TdMuz",
        "outputId": "42c45e0a-16f2-4820-950c-1f0452d4d6c5"
      },
      "outputs": [
        {
          "name": "stdout",
          "output_type": "stream",
          "text": [
            "(442, 10)\n",
            "(442,)\n",
            "(442, 1)\n"
          ]
        }
      ],
      "source": [
        "# inserta una nueva dimensión y selecciona la tercera columna\n",
        "\n",
        "y = diabetes.target\n",
        "X = diabetes.data[:,np.newaxis,2] \n",
        "print(diabetes.data.shape)\n",
        "print(diabetes.data[:,2].shape)\n",
        "print(diabetes.data[:,np.newaxis,2].shape)"
      ]
    },
    {
      "cell_type": "code",
      "execution_count": 4,
      "metadata": {
        "id": "lz8YLIz9dPvV"
      },
      "outputs": [],
      "source": [
        "# dividir el conjunto de datos en:\n",
        "#     subconjunto de datos de entrenamiento \n",
        "#     subconjunto de datos de prueba\n",
        "X_train, X_test, y_train, y_test = train_test_split(X, y, random_state = 10)"
      ]
    },
    {
      "cell_type": "code",
      "execution_count": 5,
      "metadata": {
        "colab": {
          "base_uri": "https://localhost:8080/"
        },
        "id": "fF6bTfMxTCR9",
        "outputId": "f905f664-537d-4d62-e2c6-978cd4093e38"
      },
      "outputs": [
        {
          "name": "stdout",
          "output_type": "stream",
          "text": [
            "(331, 1)\n",
            "(111, 1)\n",
            "(331,)\n",
            "(111,)\n"
          ]
        }
      ],
      "source": [
        "print(X_train.shape)\n",
        "print(X_test.shape)\n",
        "print(y_train.shape)\n",
        "print(y_test.shape)"
      ]
    },
    {
      "cell_type": "markdown",
      "metadata": {},
      "source": [
        "331 para entrenamiento y 111 para prueba"
      ]
    },
    {
      "cell_type": "code",
      "execution_count": 17,
      "metadata": {
        "colab": {
          "base_uri": "https://localhost:8080/"
        },
        "id": "KBIlL1fhdYNK",
        "outputId": "8d535e5b-6269-40f1-e8cf-c669305c8267"
      },
      "outputs": [
        {
          "data": {
            "text/plain": [
              "LinearRegression()"
            ]
          },
          "execution_count": 17,
          "metadata": {},
          "output_type": "execute_result"
        }
      ],
      "source": [
        "# obtener una instancia de LinearRegression\n",
        "linear_regression = linear_model.LinearRegression()\n",
        "\n",
        "# crea el modelo utilizando los datos de entrenamiento   \n",
        "linear_regression.fit(X_train, y_train) \n",
        "# entrenamiento con la regresion lineal"
      ]
    },
    {
      "cell_type": "code",
      "execution_count": 18,
      "metadata": {
        "id": "w9HhcZGPdhA3"
      },
      "outputs": [],
      "source": [
        "y_train_predicted = linear_regression.predict(X_train) # predicción de datos y de entrenamiento\n",
        "y_test_predicted = linear_regression.predict(X_test)   # predicción de datos y de prueba"
      ]
    },
    {
      "cell_type": "code",
      "execution_count": 19,
      "metadata": {
        "colab": {
          "base_uri": "https://localhost:8080/"
        },
        "id": "3FBKAILPdmfG",
        "outputId": "9f8705ff-a647-48ec-e719-54283d7697d4"
      },
      "outputs": [
        {
          "name": "stdout",
          "output_type": "stream",
          "text": [
            "3878.676127518841\n",
            "3928.0577759120392\n"
          ]
        }
      ],
      "source": [
        "# calidad obtenida en el conjunto de datos de entrenamiento\n",
        "train_MSD = mean_squared_error(y_train, y_train_predicted)\n",
        "print(train_MSD)\n",
        "# calidad obtenida en el conjunto de datos de prueba \n",
        "# error cuadratico medio\n",
        "test_MSD = mean_squared_error(y_test, y_test_predicted) \n",
        "print(test_MSD)"
      ]
    },
    {
      "cell_type": "code",
      "execution_count": 20,
      "metadata": {
        "colab": {
          "base_uri": "https://localhost:8080/",
          "height": 281
        },
        "id": "bqYQQsQncloA",
        "outputId": "f7b242a9-7e1d-4cfa-f9ca-d9e5c7dd75db"
      },
      "outputs": [
        {
          "data": {
            "image/png": "[encoded data removed]",
            "text/plain": [
              "<Figure size 1080x288 with 2 Axes>"
            ]
          },
          "metadata": {
            "needs_background": "light"
          },
          "output_type": "display_data"
        }
      ],
      "source": [
        "# grafico de resultados del conjunto de entrenamiento y prueba\n",
        "fig, axs = plt.subplots(1,2, figsize=(15,4)) \n",
        "\n",
        "axs[0].scatter(X_train, y_train,  color='orange')\n",
        "axs[0].plot(X_train, y_train_predicted, color='black')\n",
        "axs[0].set_title('Training set, MSD:{:.0f}'.format(train_MSD))\n",
        "\n",
        "axs[1].scatter(X_test, y_test,  color='gray')\n",
        "axs[1].plot(X_test, y_test_predicted, color='black')\n",
        "axs[1].set_title('Testing set, MSD:{:.0f}'.format(test_MSD))\n",
        "\n",
        "plt.show()"
      ]
    },
    {
      "cell_type": "markdown",
      "metadata": {},
      "source": [
        "de colo amarillo son los datos de entrenamiento y el segundo son datos de prueba"
      ]
    },
    {
      "cell_type": "code",
      "execution_count": 21,
      "metadata": {
        "colab": {
          "base_uri": "https://localhost:8080/",
          "height": 321
        },
        "id": "6JBXOwNTe8ht",
        "outputId": "ffde996b-acbd-4621-c7ae-0c38266ddf23"
      },
      "outputs": [
        {
          "name": "stdout",
          "output_type": "stream",
          "text": [
            "Coefficients: \n",
            " [938.23786125]\n",
            "Mean squared error: 2548.07\n",
            "Coefficient of determination: 0.47\n"
          ]
        },
        {
          "data": {
            "image/png": "[encoded data removed]",
            "text/plain": [
              "<Figure size 432x288 with 1 Axes>"
            ]
          },
          "metadata": {},
          "output_type": "display_data"
        }
      ],
      "source": [
        "# Code source: Jaques Grobler\n",
        "# License: BSD 3 clause\n",
        "\n",
        "import matplotlib.pyplot as plt\n",
        "import numpy as np\n",
        "from sklearn import datasets, linear_model\n",
        "from sklearn.metrics import mean_squared_error, r2_score\n",
        "\n",
        "# Load the diabetes dataset\n",
        "diabetes_X, diabetes_y = datasets.load_diabetes(return_X_y=True)\n",
        "\n",
        "# Use only one feature\n",
        "diabetes_X = diabetes_X[:, np.newaxis, 2]\n",
        "\n",
        "# Split the data into training/testing sets\n",
        "diabetes_X_train = diabetes_X[:-20]\n",
        "diabetes_X_test = diabetes_X[-20:]\n",
        "\n",
        "# Split the targets into training/testing sets\n",
        "diabetes_y_train = diabetes_y[:-20]\n",
        "diabetes_y_test = diabetes_y[-20:]\n",
        "\n",
        "# Create linear regression object\n",
        "regr = linear_model.LinearRegression()\n",
        "\n",
        "# Train the model using the training sets\n",
        "regr.fit(diabetes_X_train, diabetes_y_train)\n",
        "\n",
        "# Make predictions using the testing set\n",
        "diabetes_y_pred = regr.predict(diabetes_X_test)\n",
        "\n",
        "# The coefficients\n",
        "print(\"Coefficients: \\n\", regr.coef_)\n",
        "# The mean squared error\n",
        "print(\"Mean squared error: %.2f\" % mean_squared_error(diabetes_y_test, diabetes_y_pred))\n",
        "# The coefficient of determination: 1 is perfect prediction\n",
        "print(\"Coefficient of determination: %.2f\" % r2_score(diabetes_y_test, diabetes_y_pred))\n",
        "\n",
        "# Plot outputs\n",
        "plt.scatter(diabetes_X_test, diabetes_y_test, color=\"black\")\n",
        "plt.plot(diabetes_X_test, diabetes_y_pred, color=\"blue\", linewidth=3)\n",
        "\n",
        "plt.xticks(())\n",
        "plt.yticks(())\n",
        "\n",
        "plt.show()"
      ]
    }
  ],
  "metadata": {
    "colab": {
      "provenance": []
    },
    "kernelspec": {
      "display_name": "Python 3.9.13 ('base')",
      "language": "python",
      "name": "python3"
    },
    "language_info": {
      "codemirror_mode": {
        "name": "ipython",
        "version": 3
      },
      "file_extension": ".py",
      "mimetype": "text/x-python",
      "name": "python",
      "nbconvert_exporter": "python",
      "pygments_lexer": "ipython3",
      "version": "3.9.13"
    },
    "vscode": {
      "interpreter": {
        "hash": "dc07d24e2f18896857f0b2a651fe84ba40ce7b297e58d8804a308c8039f752a6"
      }
    }
  },
  "nbformat": 4,
  "nbformat_minor": 0
}
